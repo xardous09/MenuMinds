{
 "cells": [
  {
   "cell_type": "code",
   "execution_count": 1,
   "metadata": {
    "execution": {
     "iopub.execute_input": "2020-09-21T08:26:16.244441Z",
     "iopub.status.busy": "2020-09-21T08:26:16.243825Z",
     "iopub.status.idle": "2020-09-21T08:26:18.322790Z",
     "shell.execute_reply": "2020-09-21T08:26:18.322078Z"
    },
    "papermill": {
     "duration": 2.123264,
     "end_time": "2020-09-21T08:26:18.322964",
     "exception": false,
     "start_time": "2020-09-21T08:26:16.199700",
     "status": "completed"
    },
    "tags": []
   },
   "outputs": [],
   "source": [
    "# making the imports\n",
    "import os\n",
    "import pandas as pd\n",
    "from tqdm import tqdm_notebook as tqdm\n",
    "from functools import reduce\n",
    "import numpy as np\n",
    "from itertools import permutations, product\n",
    "import matplotlib.pyplot as plt\n",
    "from sklearn.impute import SimpleImputer\n",
    "from scipy.sparse import csr_matrix\n",
    "from sklearn.linear_model import LinearRegression\n",
    "import statsmodels.api as sm\n",
    "import math\n",
    "from sklearn.naive_bayes import MultinomialNB\n",
    "from sklearn.metrics import accuracy_score\n",
    "\n",
    "from sklearn.linear_model import LogisticRegression\n",
    "from sklearn.svm import SVC\n",
    "from sklearn.tree import DecisionTreeClassifier\n",
    "from sklearn.ensemble import RandomForestClassifier\n",
    "from sklearn.neighbors import NearestNeighbors\n",
    "\n",
    "from sklearn.model_selection import train_test_split\n",
    "from sklearn.tree import DecisionTreeRegressor"
   ]
  },
  {
   "cell_type": "code",
   "execution_count": 2,
   "metadata": {
    "execution": {
     "iopub.execute_input": "2020-09-21T08:26:18.403051Z",
     "iopub.status.busy": "2020-09-21T08:26:18.402434Z",
     "iopub.status.idle": "2020-09-21T08:26:18.405545Z",
     "shell.execute_reply": "2020-09-21T08:26:18.405016Z"
    },
    "papermill": {
     "duration": 0.044466,
     "end_time": "2020-09-21T08:26:18.405668",
     "exception": false,
     "start_time": "2020-09-21T08:26:18.361202",
     "status": "completed"
    },
    "tags": []
   },
   "outputs": [],
   "source": [
    "def beautify_plot(ttl, xl, yl, lg=True):\n",
    "    '''\n",
    "    Overrides the default title, xlabel, ylabel and legends\n",
    "    '''\n",
    "    plt.title(ttl)\n",
    "    plt.xlabel(xl)\n",
    "    plt.ylabel(yl);\n",
    "    if lg:\n",
    "        plt.legend();\n",
    "        \n",
    "base_loc = '/kaggle/input/restaurant-data-with-consumer-ratings/'"
   ]
  },
  {
   "cell_type": "code",
   "execution_count": 3,
   "metadata": {
    "execution": {
     "iopub.execute_input": "2020-09-21T08:26:18.490002Z",
     "iopub.status.busy": "2020-09-21T08:26:18.489266Z",
     "iopub.status.idle": "2020-09-21T08:26:18.518458Z",
     "shell.execute_reply": "2020-09-21T08:26:18.518911Z"
    },
    "papermill": {
     "duration": 0.078012,
     "end_time": "2020-09-21T08:26:18.519068",
     "exception": false,
     "start_time": "2020-09-21T08:26:18.441056",
     "status": "completed"
    },
    "tags": []
   },
   "outputs": [
    {
     "data": {
      "text/html": [
       "<div>\n",
       "<style scoped>\n",
       "    .dataframe tbody tr th:only-of-type {\n",
       "        vertical-align: middle;\n",
       "    }\n",
       "\n",
       "    .dataframe tbody tr th {\n",
       "        vertical-align: top;\n",
       "    }\n",
       "\n",
       "    .dataframe thead th {\n",
       "        text-align: right;\n",
       "    }\n",
       "</style>\n",
       "<table border=\"1\" class=\"dataframe\">\n",
       "  <thead>\n",
       "    <tr style=\"text-align: right;\">\n",
       "      <th></th>\n",
       "      <th>userID</th>\n",
       "      <th>placeID</th>\n",
       "      <th>rating</th>\n",
       "      <th>food_rating</th>\n",
       "      <th>service_rating</th>\n",
       "    </tr>\n",
       "  </thead>\n",
       "  <tbody>\n",
       "    <tr>\n",
       "      <th>0</th>\n",
       "      <td>U1077</td>\n",
       "      <td>135085</td>\n",
       "      <td>2</td>\n",
       "      <td>2</td>\n",
       "      <td>2</td>\n",
       "    </tr>\n",
       "    <tr>\n",
       "      <th>1</th>\n",
       "      <td>U1077</td>\n",
       "      <td>135038</td>\n",
       "      <td>2</td>\n",
       "      <td>2</td>\n",
       "      <td>1</td>\n",
       "    </tr>\n",
       "    <tr>\n",
       "      <th>2</th>\n",
       "      <td>U1077</td>\n",
       "      <td>132825</td>\n",
       "      <td>2</td>\n",
       "      <td>2</td>\n",
       "      <td>2</td>\n",
       "    </tr>\n",
       "    <tr>\n",
       "      <th>3</th>\n",
       "      <td>U1077</td>\n",
       "      <td>135060</td>\n",
       "      <td>1</td>\n",
       "      <td>2</td>\n",
       "      <td>2</td>\n",
       "    </tr>\n",
       "    <tr>\n",
       "      <th>4</th>\n",
       "      <td>U1068</td>\n",
       "      <td>135104</td>\n",
       "      <td>1</td>\n",
       "      <td>1</td>\n",
       "      <td>2</td>\n",
       "    </tr>\n",
       "  </tbody>\n",
       "</table>\n",
       "</div>"
      ],
      "text/plain": [
       "  userID  placeID  rating  food_rating  service_rating\n",
       "0  U1077   135085       2            2               2\n",
       "1  U1077   135038       2            2               1\n",
       "2  U1077   132825       2            2               2\n",
       "3  U1077   135060       1            2               2\n",
       "4  U1068   135104       1            1               2"
      ]
     },
     "execution_count": 3,
     "metadata": {},
     "output_type": "execute_result"
    }
   ],
   "source": [
    "df_master_train = [pd.read_csv(base_loc+'rating_final.csv')] # read the data\n",
    "df_master_test = [] # prepare the list to reduce the compiled profiling data\n",
    "imputation_rules = {} # store rules for imputation\n",
    "\n",
    "df_master_train[0].head() # get the head"
   ]
  },
  {
   "cell_type": "code",
   "execution_count": 4,
   "metadata": {
    "execution": {
     "iopub.execute_input": "2020-09-21T08:26:18.595206Z",
     "iopub.status.busy": "2020-09-21T08:26:18.594365Z",
     "iopub.status.idle": "2020-09-21T08:26:18.604262Z",
     "shell.execute_reply": "2020-09-21T08:26:18.604699Z"
    },
    "papermill": {
     "duration": 0.04943,
     "end_time": "2020-09-21T08:26:18.604859",
     "exception": false,
     "start_time": "2020-09-21T08:26:18.555429",
     "status": "completed"
    },
    "tags": []
   },
   "outputs": [
    {
     "data": {
      "text/plain": [
       "(130, 138)"
      ]
     },
     "execution_count": 4,
     "metadata": {},
     "output_type": "execute_result"
    }
   ],
   "source": [
    "df_master_train[0].placeID.nunique(), df_master_train[0].userID.nunique() # get the unique users and restaurants"
   ]
  },
  {
   "cell_type": "code",
   "execution_count": 5,
   "metadata": {
    "execution": {
     "iopub.execute_input": "2020-09-21T08:26:18.680673Z",
     "iopub.status.busy": "2020-09-21T08:26:18.679836Z",
     "iopub.status.idle": "2020-09-21T08:26:18.685239Z",
     "shell.execute_reply": "2020-09-21T08:26:18.685673Z"
    },
    "papermill": {
     "duration": 0.045137,
     "end_time": "2020-09-21T08:26:18.685816",
     "exception": false,
     "start_time": "2020-09-21T08:26:18.640679",
     "status": "completed"
    },
    "tags": []
   },
   "outputs": [],
   "source": [
    "def get_info(df_temp, df_type):\n",
    "    '''\n",
    "    Function to get the customized details of a dataframe.\n",
    "    '''\n",
    "    print(f'The shape is :: {df_temp.shape}\\n\\nThe # duplicates :: {df_temp.duplicated().sum()}')\n",
    "    print(f'\\nThe # unique per column ::\\n{df_temp.nunique()}')\n",
    "    print(f'\\nThe # NaNs per column ::\\n{df_temp.isna().sum()}')\n",
    "    if df_type=='chef':\n",
    "        print(f'\\nThe % Primary Key common in ratings and this df :: {pd.merge(df_temp, df_master_train[0]).placeID.nunique()/130*100:.2f}%')\n",
    "    if df_type=='user':\n",
    "        print(f'\\nThe % Primary Key common in ratings and this df :: {pd.merge(df_temp, df_master_train[0]).userID.nunique()/138*100:.2f}%')"
   ]
  },
  {
   "cell_type": "code",
   "execution_count": 6,
   "metadata": {
    "execution": {
     "iopub.execute_input": "2020-09-21T08:26:18.763099Z",
     "iopub.status.busy": "2020-09-21T08:26:18.762231Z",
     "iopub.status.idle": "2020-09-21T08:26:18.767007Z",
     "shell.execute_reply": "2020-09-21T08:26:18.767416Z"
    },
    "papermill": {
     "duration": 0.045577,
     "end_time": "2020-09-21T08:26:18.767564",
     "exception": false,
     "start_time": "2020-09-21T08:26:18.721987",
     "status": "completed"
    },
    "tags": []
   },
   "outputs": [],
   "source": [
    "def process_categorical(values):\n",
    "    '''\n",
    "    Cleans and normalize categorical variable that has text\n",
    "    '''\n",
    "    return [i.strip().lower().replace(' ','_',).replace('-','_') for i in values]"
   ]
  },
  {
   "cell_type": "markdown",
   "metadata": {
    "papermill": {
     "duration": 0.036029,
     "end_time": "2020-09-21T08:26:18.839699",
     "exception": false,
     "start_time": "2020-09-21T08:26:18.803670",
     "status": "completed"
    },
    "tags": []
   },
   "source": [
    "We see that we have need to predict the `rating`. Now this is very obvious that all the restaurants will not be there in the ratings dataframe. Again, ideally all the customers should be.\n",
    "\n",
    "So, let's first try to see how the restaurant details fit in for the ratings dataset.\n",
    " \n",
    "`chef*` datasets are for the restaurants. Let's try to see what they have one by one and make them compatible for preparation of the final dataset.\n",
    "\n",
    "### 1.1 chefmozaccepts"
   ]
  },
  {
   "cell_type": "code",
   "execution_count": 7,
   "metadata": {
    "_cell_guid": "b1076dfc-b9ad-4769-8c92-a6c4dae69d19",
    "_uuid": "8f2839f25d086af736a60e9eeb907d3b93b6e0e5",
    "execution": {
     "iopub.execute_input": "2020-09-21T08:26:18.917089Z",
     "iopub.status.busy": "2020-09-21T08:26:18.916234Z",
     "iopub.status.idle": "2020-09-21T08:26:18.950169Z",
     "shell.execute_reply": "2020-09-21T08:26:18.949600Z"
    },
    "papermill": {
     "duration": 0.073885,
     "end_time": "2020-09-21T08:26:18.950289",
     "exception": false,
     "start_time": "2020-09-21T08:26:18.876404",
     "status": "completed"
    },
    "tags": []
   },
   "outputs": [
    {
     "name": "stdout",
     "output_type": "stream",
     "text": [
      "The shape is :: (1314, 2)\n",
      "\n",
      "The # duplicates :: 0\n",
      "\n",
      "The # unique per column ::\n",
      "placeID     615\n",
      "Rpayment     12\n",
      "dtype: int64\n",
      "\n",
      "The # NaNs per column ::\n",
      "placeID     0\n",
      "Rpayment    0\n",
      "dtype: int64\n",
      "\n",
      "The % Primary Key common in ratings and this df :: 87.69%\n"
     ]
    }
   ],
   "source": [
    "df1 = pd.read_csv(base_loc+'chefmozaccepts.csv') # read and get info on the data\n",
    "get_info(df1, 'chef')"
   ]
  },
  {
   "cell_type": "code",
   "execution_count": 8,
   "metadata": {
    "_cell_guid": "79c7e3d0-c299-4dcb-8224-4455121ee9b0",
    "_uuid": "d629ff2d2480ee46fbb7e2d37f6b5fab8052498a",
    "execution": {
     "iopub.execute_input": "2020-09-21T08:26:19.027454Z",
     "iopub.status.busy": "2020-09-21T08:26:19.026570Z",
     "iopub.status.idle": "2020-09-21T08:26:19.263446Z",
     "shell.execute_reply": "2020-09-21T08:26:19.262707Z"
    },
    "papermill": {
     "duration": 0.276725,
     "end_time": "2020-09-21T08:26:19.263570",
     "exception": false,
     "start_time": "2020-09-21T08:26:18.986845",
     "status": "completed"
    },
    "tags": []
   },
   "outputs": [
    {
     "data": {
      "image/png": "[encoded data removed]",
      "text/plain": [
       "<Figure size 432x288 with 1 Axes>"
      ]
     },
     "metadata": {
      "needs_background": "light"
     },
     "output_type": "display_data"
    }
   ],
   "source": [
    "# plot the Count of Accepted Payment Types across all Restaurants\n",
    "df1.Rpayment.value_counts().plot(kind='bar')\n",
    "beautify_plot('Count of Accepted Payment Types across all Restaurants\\n', 'Payment Types', 'Count')"
   ]
  },
  {
   "cell_type": "markdown",
   "metadata": {
    "papermill": {
     "duration": 0.03692,
     "end_time": "2020-09-21T08:26:19.338576",
     "exception": false,
     "start_time": "2020-09-21T08:26:19.301656",
     "status": "completed"
    },
    "tags": []
   },
   "source": [
    "A cool observation is that most of the places accepts cash. One more thing to notice is that 'VISA' and 'visa' are different values and it seems that it may be just an error. So, we process the categorical field."
   ]
  },
  {
   "cell_type": "code",
   "execution_count": 9,
   "metadata": {
    "execution": {
     "iopub.execute_input": "2020-09-21T08:26:19.420440Z",
     "iopub.status.busy": "2020-09-21T08:26:19.419767Z",
     "iopub.status.idle": "2020-09-21T08:26:19.422310Z",
     "shell.execute_reply": "2020-09-21T08:26:19.421905Z"
    },
    "papermill": {
     "duration": 0.046128,
     "end_time": "2020-09-21T08:26:19.422426",
     "exception": false,
     "start_time": "2020-09-21T08:26:19.376298",
     "status": "completed"
    },
    "tags": []
   },
   "outputs": [],
   "source": [
    "df1['Rpayment'] = process_categorical(df1.Rpayment) # clean the Rpayment column"
   ]
  },
  {
   "cell_type": "code",
   "execution_count": 10,
   "metadata": {
    "execution": {
     "iopub.execute_input": "2020-09-21T08:26:19.504837Z",
     "iopub.status.busy": "2020-09-21T08:26:19.504081Z",
     "iopub.status.idle": "2020-09-21T08:26:19.672180Z",
     "shell.execute_reply": "2020-09-21T08:26:19.671713Z"
    },
    "papermill": {
     "duration": 0.212413,
     "end_time": "2020-09-21T08:26:19.672297",
     "exception": false,
     "start_time": "2020-09-21T08:26:19.459884",
     "status": "completed"
    },
    "tags": []
   },
   "outputs": [
    {
     "data": {
      "image/png": "[encoded data removed]",
      "text/plain": [
       "<Figure size 432x288 with 1 Axes>"
      ]
     },
     "metadata": {
      "needs_background": "light"
     },
     "output_type": "display_data"
    }
   ],
   "source": [
    "# plot the Distribution of Restautants accepting unique number of Payemnt Types\n",
    "df1.groupby('placeID').count().sort_values('Rpayment').plot(kind='hist', bins=7);\n",
    "beautify_plot('Distribution of Restautants accepting unique number of Payemnt Types\\n', \n",
    "              '# Unique Accepted Payment Types', \n",
    "              'Frequency')"
   ]
  },
  {
   "cell_type": "markdown",
   "metadata": {
    "papermill": {
     "duration": 0.046429,
     "end_time": "2020-09-21T08:26:19.760700",
     "exception": false,
     "start_time": "2020-09-21T08:26:19.714271",
     "status": "completed"
    },
    "tags": []
   },
   "source": [
    "A quick glance reveals that most of the places accepts a single mode of payment."
   ]
  },
  {
   "cell_type": "code",
   "execution_count": 11,
   "metadata": {
    "execution": {
     "iopub.execute_input": "2020-09-21T08:26:19.860337Z",
     "iopub.status.busy": "2020-09-21T08:26:19.859663Z",
     "iopub.status.idle": "2020-09-21T08:26:20.363433Z",
     "shell.execute_reply": "2020-09-21T08:26:20.362854Z"
    },
    "papermill": {
     "duration": 0.557314,
     "end_time": "2020-09-21T08:26:20.363542",
     "exception": false,
     "start_time": "2020-09-21T08:26:19.806228",
     "status": "completed"
    },
    "tags": []
   },
   "outputs": [
    {
     "data": {
      "image/png": "[encoded data removed]",
      "text/plain": [
       "<Figure size 432x288 with 1 Axes>"
      ]
     },
     "metadata": {
      "needs_background": "light"
     },
     "output_type": "display_data"
    },
    {
     "data": {
      "image/png": "[encoded data removed]",
      "text/plain": [
       "<Figure size 432x288 with 1 Axes>"
      ]
     },
     "metadata": {
      "needs_background": "light"
     },
     "output_type": "display_data"
    },
    {
     "data": {
      "image/png": "[encoded data removed]",
      "text/plain": [
       "<Figure size 432x288 with 1 Axes>"
      ]
     },
     "metadata": {
      "needs_background": "light"
     },
     "output_type": "display_data"
    }
   ],
   "source": [
    "# plot the Count of various Payment Types in Restautants which accepts different unique mode(s) of Payment\n",
    "df11 = df1.groupby('placeID').count().reset_index()\n",
    "df11.columns = ['placeID', 'count']\n",
    "df12 = df1.merge(df11).query('count<4').groupby('count').Rpayment.value_counts().unstack()\n",
    "for i in range(0,df12.shape[0]):\n",
    "    plt.subplots(1)\n",
    "    df12.iloc[i].plot.bar()\n",
    "    beautify_plot(f'Count of various Payment Types in Restautants which accepts only {i+1} unique mode(s) of Payment\\n', \n",
    "                  'Accepted Payment Types', \n",
    "                  'Count')"
   ]
  },
  {
   "cell_type": "markdown",
   "metadata": {
    "papermill": {
     "duration": 0.041813,
     "end_time": "2020-09-21T08:26:20.448245",
     "exception": false,
     "start_time": "2020-09-21T08:26:20.406432",
     "status": "completed"
    },
    "tags": []
   },
   "source": [
    "We see the observation for those stores which accepts 1,2 and 3 mode of payments.\n",
    "* We see that those most of the stores who accepts only 1 mode of payment, accepts cash.\n",
    "* We see that those most of the stores who accepts only 2 modes of payment, accepts mostly visa, cash and debit cards.\n",
    "* We see that those most of the stores who accepts only 3 mode of payment, accepts mostly visa, mastercards and less cash and lesser debit cards.\n",
    "\n",
    "This may reveal a pattern that those stores which accept single mode of payments, does attract people with `low budgets` and those with more attracts people with `high or medium` budget.\n",
    "\n",
    "We see that after the merge, there will be some restaurants who will have NaNs for the card types. We can impute them with `0`s. \n",
    "\n",
    "Also we see that are around 12 levels. So, we can conclude that we can accept them for the master data after One Hot Encoding."
   ]
  },
  {
   "cell_type": "code",
   "execution_count": 12,
   "metadata": {
    "execution": {
     "iopub.execute_input": "2020-09-21T08:26:20.542210Z",
     "iopub.status.busy": "2020-09-21T08:26:20.539010Z",
     "iopub.status.idle": "2020-09-21T08:26:20.548529Z",
     "shell.execute_reply": "2020-09-21T08:26:20.549006Z"
    },
    "papermill": {
     "duration": 0.059874,
     "end_time": "2020-09-21T08:26:20.549153",
     "exception": false,
     "start_time": "2020-09-21T08:26:20.489279",
     "status": "completed"
    },
    "tags": []
   },
   "outputs": [],
   "source": [
    "df1_final = pd.get_dummies(df1).groupby('placeID').sum().reset_index() # one hot encode the features\n",
    "\n",
    "# add the dataframe to the training and testing list\n",
    "df_master_train.append(df1_final)\n",
    "df_master_test.append(df1_final)\n",
    "\n",
    "# store the imputation rules\n",
    "imputation_rules.update({i:{'fillna': 0} for i in df1_final.columns[1:]})"
   ]
  },
  {
   "cell_type": "code",
   "execution_count": 13,
   "metadata": {
    "execution": {
     "iopub.execute_input": "2020-09-21T08:26:20.635144Z",
     "iopub.status.busy": "2020-09-21T08:26:20.634556Z",
     "iopub.status.idle": "2020-09-21T08:26:20.655142Z",
     "shell.execute_reply": "2020-09-21T08:26:20.654399Z"
    },
    "papermill": {
     "duration": 0.064322,
     "end_time": "2020-09-21T08:26:20.655298",
     "exception": false,
     "start_time": "2020-09-21T08:26:20.590976",
     "status": "completed"
    },
    "tags": []
   },
   "outputs": [
    {
     "name": "stdout",
     "output_type": "stream",
     "text": [
      "The shape is :: (916, 2)\n",
      "\n",
      "The # duplicates :: 0\n",
      "\n",
      "The # unique per column ::\n",
      "placeID     769\n",
      "Rcuisine     59\n",
      "dtype: int64\n",
      "\n",
      "The # NaNs per column ::\n",
      "placeID     0\n",
      "Rcuisine    0\n",
      "dtype: int64\n",
      "\n",
      "The % Primary Key common in ratings and this df :: 73.08%\n"
     ]
    }
   ],
   "source": [
    "df2 = pd.read_csv(base_loc+'chefmozcuisine.csv') # read and get info on the data\n",
    "get_info(df2, 'chef')"
   ]
  },
  {
   "cell_type": "code",
   "execution_count": 14,
   "metadata": {
    "execution": {
     "iopub.execute_input": "2020-09-21T08:26:20.749203Z",
     "iopub.status.busy": "2020-09-21T08:26:20.748568Z",
     "iopub.status.idle": "2020-09-21T08:26:20.898833Z",
     "shell.execute_reply": "2020-09-21T08:26:20.898363Z"
    },
    "papermill": {
     "duration": 0.201479,
     "end_time": "2020-09-21T08:26:20.898940",
     "exception": false,
     "start_time": "2020-09-21T08:26:20.697461",
     "status": "completed"
    },
    "tags": []
   },
   "outputs": [
    {
     "data": {
      "image/png": "[encoded data removed]",
      "text/plain": [
       "<Figure size 432x288 with 1 Axes>"
      ]
     },
     "metadata": {
      "needs_background": "light"
     },
     "output_type": "display_data"
    }
   ],
   "source": [
    "# plot the Count of Cuisines across all Restaurants\n",
    "df2['Rcuisine'] = process_categorical(df2.Rcuisine)\n",
    "cusines = df2.Rcuisine.value_counts()[:10] # get the top 10 cusines\n",
    "cusines.plot.barh()\n",
    "beautify_plot('Count of Cuisines across all Restaurants\\n', 'Counts', 'Cuisines');"
   ]
  },
  {
   "cell_type": "code",
   "execution_count": 15,
   "metadata": {
    "execution": {
     "iopub.execute_input": "2020-09-21T08:26:20.994311Z",
     "iopub.status.busy": "2020-09-21T08:26:20.993430Z",
     "iopub.status.idle": "2020-09-21T08:26:20.996857Z",
     "shell.execute_reply": "2020-09-21T08:26:20.996385Z"
    },
    "papermill": {
     "duration": 0.055948,
     "end_time": "2020-09-21T08:26:20.996987",
     "exception": false,
     "start_time": "2020-09-21T08:26:20.941039",
     "status": "completed"
    },
    "tags": []
   },
   "outputs": [],
   "source": [
    "# bin the cuisines which are not in top 10 as others\n",
    "df2['Rcuisine'] = df2.Rcuisine.replace([i for i in df2.Rcuisine.unique() if i not in cusines], 'others')"
   ]
  },
  {
   "cell_type": "code",
   "execution_count": 16,
   "metadata": {
    "execution": {
     "iopub.execute_input": "2020-09-21T08:26:21.088600Z",
     "iopub.status.busy": "2020-09-21T08:26:21.088068Z",
     "iopub.status.idle": "2020-09-21T08:26:21.270294Z",
     "shell.execute_reply": "2020-09-21T08:26:21.269821Z"
    },
    "papermill": {
     "duration": 0.230159,
     "end_time": "2020-09-21T08:26:21.270408",
     "exception": false,
     "start_time": "2020-09-21T08:26:21.040249",
     "status": "completed"
    },
    "tags": []
   },
   "outputs": [
    {
     "data": {
      "image/png": "[encoded data removed]",
      "text/plain": [
       "<Figure size 432x288 with 1 Axes>"
      ]
     },
     "metadata": {
      "needs_background": "light"
     },
     "output_type": "display_data"
    }
   ],
   "source": [
    "# plot the Counts of various Cusines offered by Restaurants where only single mode of Payment is accepted\n",
    "df1.groupby('placeID').count().query('Rpayment==1').reset_index().merge(df2).Rcuisine.value_counts().plot.bar()\n",
    "beautify_plot('Counts of various Cusines offered by Restaurants where only single mode of Payment is accepted\\n',\n",
    "              'Cusines', 'Count');"
   ]
  },
  {
   "cell_type": "code",
   "execution_count": 17,
   "metadata": {
    "execution": {
     "iopub.execute_input": "2020-09-21T08:26:21.369178Z",
     "iopub.status.busy": "2020-09-21T08:26:21.364753Z",
     "iopub.status.idle": "2020-09-21T08:26:21.548745Z",
     "shell.execute_reply": "2020-09-21T08:26:21.548159Z"
    },
    "papermill": {
     "duration": 0.234553,
     "end_time": "2020-09-21T08:26:21.548856",
     "exception": false,
     "start_time": "2020-09-21T08:26:21.314303",
     "status": "completed"
    },
    "tags": []
   },
   "outputs": [
    {
     "data": {
      "image/png": "[encoded data removed]",
      "text/plain": [
       "<Figure size 432x288 with 1 Axes>"
      ]
     },
     "metadata": {
      "needs_background": "light"
     },
     "output_type": "display_data"
    }
   ],
   "source": [
    "# plot the Counts of various Cusines offered by Restaurants where more than one mode of Payment is accepted\n",
    "df1.groupby('placeID').count().query('Rpayment>1').reset_index().merge(df2).Rcuisine.value_counts().plot.bar()\n",
    "beautify_plot('Counts of various Cusines offered by Restaurants where more than one mode of Payment is accepted\\n',\n",
    "              'Cusines', 'Count');"
   ]
  },
  {
   "cell_type": "markdown",
   "metadata": {
    "papermill": {
     "duration": 0.043196,
     "end_time": "2020-09-21T08:26:21.636167",
     "exception": false,
     "start_time": "2020-09-21T08:26:21.592971",
     "status": "completed"
    },
    "tags": []
   },
   "source": [
    "We do get quite an interesting pattern here. Previously we saw that **single mode of payments has predominant mode of payment as cash** and again, we see that those restaurants offer mostly **Mexican, American Cuisines and Bars**.\n",
    "\n",
    "Also, for two or more mode of payments, there are **cards involved** and as per the distribution of the cuisines, we see that apart from Mexican and American (which can be burger joints), we can see more delicate **European cuisines like International, French, Italian etc**.\n",
    "\n",
    "Once we have processed this dataframe, we will account for the NaNs after the join by imputing `1 in others` and `0 in rest of the cuisines`.  "
   ]
  },
  {
   "cell_type": "code",
   "execution_count": 18,
   "metadata": {
    "execution": {
     "iopub.execute_input": "2020-09-21T08:26:21.736063Z",
     "iopub.status.busy": "2020-09-21T08:26:21.732907Z",
     "iopub.status.idle": "2020-09-21T08:26:21.741419Z",
     "shell.execute_reply": "2020-09-21T08:26:21.740908Z"
    },
    "papermill": {
     "duration": 0.061621,
     "end_time": "2020-09-21T08:26:21.741539",
     "exception": false,
     "start_time": "2020-09-21T08:26:21.679918",
     "status": "completed"
    },
    "tags": []
   },
   "outputs": [],
   "source": [
    "df2_final = pd.get_dummies(df2).groupby('placeID').sum().reset_index() # one hot encode the features\n",
    "\n",
    "# add the dataframe to the training and testing list\n",
    "df_master_train.append(df2_final)\n",
    "df_master_test.append(df2_final)\n",
    "\n",
    "# store the imputation rules\n",
    "imputation_rules.update({i: {'fillna': 1} if i=='Rcuisine_others' else {'fillna':0} for i in df2_final.columns[1:]})"
   ]
  },
  {
   "cell_type": "markdown",
   "metadata": {
    "papermill": {
     "duration": 0.044383,
     "end_time": "2020-09-21T08:26:21.830404",
     "exception": false,
     "start_time": "2020-09-21T08:26:21.786021",
     "status": "completed"
    },
    "tags": []
   },
   "source": [
    "### 1.3 chefmozhours4"
   ]
  },
  {
   "cell_type": "code",
   "execution_count": 19,
   "metadata": {
    "execution": {
     "iopub.execute_input": "2020-09-21T08:26:21.924947Z",
     "iopub.status.busy": "2020-09-21T08:26:21.924256Z",
     "iopub.status.idle": "2020-09-21T08:26:21.951165Z",
     "shell.execute_reply": "2020-09-21T08:26:21.950696Z"
    },
    "papermill": {
     "duration": 0.076825,
     "end_time": "2020-09-21T08:26:21.951271",
     "exception": false,
     "start_time": "2020-09-21T08:26:21.874446",
     "status": "completed"
    },
    "tags": []
   },
   "outputs": [
    {
     "name": "stdout",
     "output_type": "stream",
     "text": [
      "The shape is :: (2339, 3)\n",
      "\n",
      "The # duplicates :: 271\n",
      "\n",
      "The # unique per column ::\n",
      "placeID    694\n",
      "hours      273\n",
      "days         3\n",
      "dtype: int64\n",
      "\n",
      "The # NaNs per column ::\n",
      "placeID    0\n",
      "hours      0\n",
      "days       0\n",
      "dtype: int64\n",
      "\n",
      "The % Primary Key common in ratings and this df :: 98.46%\n"
     ]
    },
    {
     "data": {
      "text/html": [
       "<div>\n",
       "<style scoped>\n",
       "    .dataframe tbody tr th:only-of-type {\n",
       "        vertical-align: middle;\n",
       "    }\n",
       "\n",
       "    .dataframe tbody tr th {\n",
       "        vertical-align: top;\n",
       "    }\n",
       "\n",
       "    .dataframe thead th {\n",
       "        text-align: right;\n",
       "    }\n",
       "</style>\n",
       "<table border=\"1\" class=\"dataframe\">\n",
       "  <thead>\n",
       "    <tr style=\"text-align: right;\">\n",
       "      <th></th>\n",
       "      <th>placeID</th>\n",
       "      <th>hours</th>\n",
       "      <th>days</th>\n",
       "    </tr>\n",
       "  </thead>\n",
       "  <tbody>\n",
       "    <tr>\n",
       "      <th>0</th>\n",
       "      <td>135111</td>\n",
       "      <td>00:00-23:30;</td>\n",
       "      <td>Mon;Tue;Wed;Thu;Fri;</td>\n",
       "    </tr>\n",
       "    <tr>\n",
       "      <th>1</th>\n",
       "      <td>135111</td>\n",
       "      <td>00:00-23:30;</td>\n",
       "      <td>Sat;</td>\n",
       "    </tr>\n",
       "    <tr>\n",
       "      <th>2</th>\n",
       "      <td>135111</td>\n",
       "      <td>00:00-23:30;</td>\n",
       "      <td>Sun;</td>\n",
       "    </tr>\n",
       "    <tr>\n",
       "      <th>3</th>\n",
       "      <td>135110</td>\n",
       "      <td>08:00-19:00;</td>\n",
       "      <td>Mon;Tue;Wed;Thu;Fri;</td>\n",
       "    </tr>\n",
       "    <tr>\n",
       "      <th>4</th>\n",
       "      <td>135110</td>\n",
       "      <td>00:00-00:00;</td>\n",
       "      <td>Sat;</td>\n",
       "    </tr>\n",
       "  </tbody>\n",
       "</table>\n",
       "</div>"
      ],
      "text/plain": [
       "   placeID         hours                  days\n",
       "0   135111  00:00-23:30;  Mon;Tue;Wed;Thu;Fri;\n",
       "1   135111  00:00-23:30;                  Sat;\n",
       "2   135111  00:00-23:30;                  Sun;\n",
       "3   135110  08:00-19:00;  Mon;Tue;Wed;Thu;Fri;\n",
       "4   135110  00:00-00:00;                  Sat;"
      ]
     },
     "execution_count": 19,
     "metadata": {},
     "output_type": "execute_result"
    }
   ],
   "source": [
    "df3 = pd.read_csv(base_loc+'chefmozhours4.csv') # read and get info on the data\n",
    "get_info(df3, 'chef')\n",
    "\n",
    "df3.head()"
   ]
  },
  {
   "cell_type": "code",
   "execution_count": 20,
   "metadata": {
    "execution": {
     "iopub.execute_input": "2020-09-21T08:26:22.048158Z",
     "iopub.status.busy": "2020-09-21T08:26:22.047556Z",
     "iopub.status.idle": "2020-09-21T08:26:22.262045Z",
     "shell.execute_reply": "2020-09-21T08:26:22.262929Z"
    },
    "papermill": {
     "duration": 0.266985,
     "end_time": "2020-09-21T08:26:22.263145",
     "exception": false,
     "start_time": "2020-09-21T08:26:21.996160",
     "status": "completed"
    },
    "tags": []
   },
   "outputs": [
    {
     "data": {
      "image/png": "[encoded data removed]",
      "text/plain": [
       "<Figure size 432x288 with 1 Axes>"
      ]
     },
     "metadata": {
      "needs_background": "light"
     },
     "output_type": "display_data"
    }
   ],
   "source": [
    "# plot the Count of days open across all Restaurants\n",
    "df3.groupby('placeID').agg({'days': pd.Series.nunique}).days.value_counts().plot.bar();\n",
    "beautify_plot('Count of days open across all Restaurants\\n', 'Days Open', 'Count');"
   ]
  },
  {
   "cell_type": "markdown",
   "metadata": {
    "papermill": {
     "duration": 0.045587,
     "end_time": "2020-09-21T08:26:22.359580",
     "exception": false,
     "start_time": "2020-09-21T08:26:22.313993",
     "status": "completed"
    },
    "tags": []
   },
   "source": [
    "The data ideally should have `n*3 rows`, i.e the opening and closing hours for each place for Weekdays, Saturdays and Sundays. However we have some as 1 and 2 also. That means, if the shop is not open in either of the weekdays, sat or sun, it does not have a record.\n",
    "\n",
    "\n",
    "We encounter a number of observations here.\n",
    "* Duplicates are present\n",
    "* The hours column has 273 unique values\n",
    "\n",
    "We propose to do the following for the processing.\n",
    "\n",
    "* Convert the hours column to number of actual numerical hours. If the hours come as 0, we say the shop is open for 24 hours. This is based on the previous observation of the distribution of days.\n",
    "* Remove the duplicates on place and days (cannot have 2 records with different opening and closing timings for the same day)\n",
    "* Do a pivot on the days and account the dataset for inclusion in the master file. Do a fillna of `0` for days in which it was not open.\n",
    "\n",
    "The rule for imputation when creating the master will be impute by mode."
   ]
  },
  {
   "cell_type": "code",
   "execution_count": 21,
   "metadata": {
    "execution": {
     "iopub.execute_input": "2020-09-21T08:26:22.452655Z",
     "iopub.status.busy": "2020-09-21T08:26:22.452085Z",
     "iopub.status.idle": "2020-09-21T08:26:22.508514Z",
     "shell.execute_reply": "2020-09-21T08:26:22.507987Z"
    },
    "papermill": {
     "duration": 0.104232,
     "end_time": "2020-09-21T08:26:22.508640",
     "exception": false,
     "start_time": "2020-09-21T08:26:22.404408",
     "status": "completed"
    },
    "tags": []
   },
   "outputs": [],
   "source": [
    "df3 = pd.read_csv(base_loc+'chefmozhours4.csv')\n",
    "# feature engineer the actual hours\n",
    "df3['hrs'] = df3.hours.apply(lambda x: np.ptp([int(j[:2]) for i in x.split(';') for j in i.split('-') if j]))\n",
    "df3 = df3.replace(0, 24) # replace 0 (came as diff) with 24 for shops which are open round the clock\n",
    "\n",
    "df3.drop_duplicates(subset=['placeID', 'days'], inplace=True)\n",
    "\n",
    "# one hot encode the features\n",
    "df3 = df3.pivot(index='placeID', columns='days', values='hrs')\\\n",
    "       .reset_index().rename_axis(None, axis=1)\\\n",
    "       .fillna(0).astype(int) # replace 0 for shops which are not open on days (after pivot)\n",
    "\n",
    "# add the dataframe to the training and testing list\n",
    "df3.columns = ['placeID', 'mon_tue_wed_thu_fri', 'sat', 'sun']\n",
    "df_master_train.append(df3)\n",
    "df_master_test.append(df3)\n",
    "\n",
    "# store the imputation rules\n",
    "imputation_rules.update({i: 'mode' for i in df3.columns[1:]})"
   ]
  },
  {
   "cell_type": "markdown",
   "metadata": {
    "papermill": {
     "duration": 0.044747,
     "end_time": "2020-09-21T08:26:22.598735",
     "exception": false,
     "start_time": "2020-09-21T08:26:22.553988",
     "status": "completed"
    },
    "tags": []
   },
   "source": [
    "### 1.4 chefmozparking"
   ]
  },
  {
   "cell_type": "code",
   "execution_count": 22,
   "metadata": {
    "execution": {
     "iopub.execute_input": "2020-09-21T08:26:22.694857Z",
     "iopub.status.busy": "2020-09-21T08:26:22.694207Z",
     "iopub.status.idle": "2020-09-21T08:26:22.710210Z",
     "shell.execute_reply": "2020-09-21T08:26:22.710645Z"
    },
    "papermill": {
     "duration": 0.067075,
     "end_time": "2020-09-21T08:26:22.710786",
     "exception": false,
     "start_time": "2020-09-21T08:26:22.643711",
     "status": "completed"
    },
    "tags": []
   },
   "outputs": [
    {
     "name": "stdout",
     "output_type": "stream",
     "text": [
      "The shape is :: (702, 2)\n",
      "\n",
      "The # duplicates :: 0\n",
      "\n",
      "The # unique per column ::\n",
      "placeID        675\n",
      "parking_lot      7\n",
      "dtype: int64\n",
      "\n",
      "The # NaNs per column ::\n",
      "placeID        0\n",
      "parking_lot    0\n",
      "dtype: int64\n",
      "\n",
      "The % Primary Key common in ratings and this df :: 100.00%\n"
     ]
    }
   ],
   "source": [
    "df4 = pd.read_csv(base_loc+'chefmozparking.csv') # read and get info on the data\n",
    "get_info(df4, 'chef')"
   ]
  },
  {
   "cell_type": "code",
   "execution_count": 23,
   "metadata": {
    "execution": {
     "iopub.execute_input": "2020-09-21T08:26:22.807780Z",
     "iopub.status.busy": "2020-09-21T08:26:22.806851Z",
     "iopub.status.idle": "2020-09-21T08:26:22.952563Z",
     "shell.execute_reply": "2020-09-21T08:26:22.953080Z"
    },
    "papermill": {
     "duration": 0.195716,
     "end_time": "2020-09-21T08:26:22.953223",
     "exception": false,
     "start_time": "2020-09-21T08:26:22.757507",
     "status": "completed"
    },
    "tags": []
   },
   "outputs": [
    {
     "data": {
      "image/png": "[encoded data removed]",
      "text/plain": [
       "<Figure size 432x288 with 1 Axes>"
      ]
     },
     "metadata": {
      "needs_background": "light"
     },
     "output_type": "display_data"
    }
   ],
   "source": [
    "# plot the Counts of Parking Lots across all Restuatrants\n",
    "df4.parking_lot.value_counts().plot.barh();\n",
    "beautify_plot('Counts of Parking Lots across all Restuatrants\\n', 'Parking Lot Types', 'Count');"
   ]
  },
  {
   "cell_type": "markdown",
   "metadata": {
    "papermill": {
     "duration": 0.046864,
     "end_time": "2020-09-21T08:26:23.046574",
     "exception": false,
     "start_time": "2020-09-21T08:26:22.999710",
     "status": "completed"
    },
    "tags": []
   },
   "source": [
    "The above data looks fine and is incorporated. We will create the rule for imputation with mode for any NaNs."
   ]
  },
  {
   "cell_type": "code",
   "execution_count": 24,
   "metadata": {
    "execution": {
     "iopub.execute_input": "2020-09-21T08:26:23.152474Z",
     "iopub.status.busy": "2020-09-21T08:26:23.151518Z",
     "iopub.status.idle": "2020-09-21T08:26:23.156267Z",
     "shell.execute_reply": "2020-09-21T08:26:23.156656Z"
    },
    "papermill": {
     "duration": 0.063784,
     "end_time": "2020-09-21T08:26:23.156804",
     "exception": false,
     "start_time": "2020-09-21T08:26:23.093020",
     "status": "completed"
    },
    "tags": []
   },
   "outputs": [],
   "source": [
    "df4_final = pd.get_dummies(df4).groupby('placeID').sum().reset_index() # one hot encode the features\n",
    "\n",
    "# add the dataframe to the training and testing list\n",
    "df_master_train.append(df4_final)\n",
    "df_master_test.append(df4_final)\n",
    "\n",
    "# store the imputation rules\n",
    "imputation_rules.update({i: 'mode' for i in df4_final.columns[1:]})"
   ]
  },
  {
   "cell_type": "markdown",
   "metadata": {
    "papermill": {
     "duration": 0.046307,
     "end_time": "2020-09-21T08:26:23.250277",
     "exception": false,
     "start_time": "2020-09-21T08:26:23.203970",
     "status": "completed"
    },
    "tags": []
   },
   "source": [
    "### 1.5 usercuisine"
   ]
  },
  {
   "cell_type": "code",
   "execution_count": 25,
   "metadata": {
    "execution": {
     "iopub.execute_input": "2020-09-21T08:26:23.351000Z",
     "iopub.status.busy": "2020-09-21T08:26:23.350364Z",
     "iopub.status.idle": "2020-09-21T08:26:23.367035Z",
     "shell.execute_reply": "2020-09-21T08:26:23.367566Z"
    },
    "papermill": {
     "duration": 0.070745,
     "end_time": "2020-09-21T08:26:23.367729",
     "exception": false,
     "start_time": "2020-09-21T08:26:23.296984",
     "status": "completed"
    },
    "tags": []
   },
   "outputs": [
    {
     "name": "stdout",
     "output_type": "stream",
     "text": [
      "The shape is :: (330, 2)\n",
      "\n",
      "The # duplicates :: 0\n",
      "\n",
      "The # unique per column ::\n",
      "userID      138\n",
      "Rcuisine    103\n",
      "dtype: int64\n",
      "\n",
      "The # NaNs per column ::\n",
      "userID      0\n",
      "Rcuisine    0\n",
      "dtype: int64\n",
      "\n",
      "The % Primary Key common in ratings and this df :: 100.00%\n"
     ]
    }
   ],
   "source": [
    "df5 = pd.read_csv(base_loc+'usercuisine.csv') # read and get info on the data\n",
    "get_info(df5, 'user')"
   ]
  },
  {
   "cell_type": "code",
   "execution_count": 26,
   "metadata": {
    "execution": {
     "iopub.execute_input": "2020-09-21T08:26:23.464660Z",
     "iopub.status.busy": "2020-09-21T08:26:23.463801Z",
     "iopub.status.idle": "2020-09-21T08:26:23.620389Z",
     "shell.execute_reply": "2020-09-21T08:26:23.619911Z"
    },
    "papermill": {
     "duration": 0.206324,
     "end_time": "2020-09-21T08:26:23.620496",
     "exception": false,
     "start_time": "2020-09-21T08:26:23.414172",
     "status": "completed"
    },
    "tags": []
   },
   "outputs": [
    {
     "data": {
      "image/png": "[encoded data removed]",
      "text/plain": [
       "<Figure size 432x288 with 1 Axes>"
      ]
     },
     "metadata": {
      "needs_background": "light"
     },
     "output_type": "display_data"
    }
   ],
   "source": [
    "# plot the Counts of various Cusines preferred by all the Customers\n",
    "df5['Ucuisine'] = process_categorical(df5.Rcuisine) # get the top 10 cusines\n",
    "df5.Ucuisine.value_counts()[:10].plot.bar();\n",
    "beautify_plot('Counts of various Cusines preferred by all the Customers\\n', 'Cusines', 'Count');"
   ]
  },
  {
   "cell_type": "markdown",
   "metadata": {
    "papermill": {
     "duration": 0.048301,
     "end_time": "2020-09-21T08:26:23.767316",
     "exception": false,
     "start_time": "2020-09-21T08:26:23.719015",
     "status": "completed"
    },
    "tags": []
   },
   "source": [
    "We again need to bin the less popular ones in `others`.\n",
    "\n",
    "Again we create the rule of replacing NaNs with others as 1 for User cuisines."
   ]
  },
  {
   "cell_type": "code",
   "execution_count": 27,
   "metadata": {
    "execution": {
     "iopub.execute_input": "2020-09-21T08:26:23.877514Z",
     "iopub.status.busy": "2020-09-21T08:26:23.876576Z",
     "iopub.status.idle": "2020-09-21T08:26:23.882453Z",
     "shell.execute_reply": "2020-09-21T08:26:23.881982Z"
    },
    "papermill": {
     "duration": 0.067639,
     "end_time": "2020-09-21T08:26:23.882563",
     "exception": false,
     "start_time": "2020-09-21T08:26:23.814924",
     "status": "completed"
    },
    "tags": []
   },
   "outputs": [],
   "source": [
    "# bin the cuisines which are not in top 10 as others\n",
    "df5['Ucuisine'] = df5.Ucuisine.replace([i for i in df5.Ucuisine.unique() if i not in cusines], 'others')\n",
    "# one hot encode the features\n",
    "df5_final = pd.concat([df5[['userID']], pd.get_dummies(df5.Ucuisine, prefix='Ucuisine')], axis=1)\\\n",
    "              .groupby('userID').sum().reset_index()\n",
    "\n",
    "# add the dataframe to the training and testing list\n",
    "df_master_train.append(df5_final)\n",
    "df_master_test.append(df5_final)\n",
    "\n",
    "# store the imputation rules\n",
    "imputation_rules.update({i: {'fillna': 1} if i=='Ucuisine_others' else {'fillna':0} for i in df5_final.columns[1:]})"
   ]
  },
  {
   "cell_type": "markdown",
   "metadata": {
    "papermill": {
     "duration": 0.051176,
     "end_time": "2020-09-21T08:26:23.982720",
     "exception": false,
     "start_time": "2020-09-21T08:26:23.931544",
     "status": "completed"
    },
    "tags": []
   },
   "source": [
    "### 1.6 userpayment"
   ]
  },
  {
   "cell_type": "code",
   "execution_count": 28,
   "metadata": {
    "execution": {
     "iopub.execute_input": "2020-09-21T08:26:24.085465Z",
     "iopub.status.busy": "2020-09-21T08:26:24.084839Z",
     "iopub.status.idle": "2020-09-21T08:26:24.100754Z",
     "shell.execute_reply": "2020-09-21T08:26:24.101262Z"
    },
    "papermill": {
     "duration": 0.070426,
     "end_time": "2020-09-21T08:26:24.101411",
     "exception": false,
     "start_time": "2020-09-21T08:26:24.030985",
     "status": "completed"
    },
    "tags": []
   },
   "outputs": [
    {
     "name": "stdout",
     "output_type": "stream",
     "text": [
      "The shape is :: (177, 2)\n",
      "\n",
      "The # duplicates :: 0\n",
      "\n",
      "The # unique per column ::\n",
      "userID      133\n",
      "Upayment      5\n",
      "dtype: int64\n",
      "\n",
      "The # NaNs per column ::\n",
      "userID      0\n",
      "Upayment    0\n",
      "dtype: int64\n",
      "\n",
      "The % Primary Key common in ratings and this df :: 96.38%\n"
     ]
    }
   ],
   "source": [
    "df6 = pd.read_csv(base_loc+'userpayment.csv') # read and get info on the data\n",
    "df6['Upayment'] = process_categorical(df6.Upayment)\n",
    "get_info(df6, 'user')"
   ]
  },
  {
   "cell_type": "code",
   "execution_count": 29,
   "metadata": {
    "execution": {
     "iopub.execute_input": "2020-09-21T08:26:24.210938Z",
     "iopub.status.busy": "2020-09-21T08:26:24.208023Z",
     "iopub.status.idle": "2020-09-21T08:26:24.339464Z",
     "shell.execute_reply": "2020-09-21T08:26:24.339006Z"
    },
    "papermill": {
     "duration": 0.189405,
     "end_time": "2020-09-21T08:26:24.339640",
     "exception": false,
     "start_time": "2020-09-21T08:26:24.150235",
     "status": "completed"
    },
    "tags": []
   },
   "outputs": [
    {
     "data": {
      "image/png": "[encoded data removed]",
      "text/plain": [
       "<Figure size 432x288 with 1 Axes>"
      ]
     },
     "metadata": {
      "needs_background": "light"
     },
     "output_type": "display_data"
    }
   ],
   "source": [
    "# plot the Counts of Payment Methods preferred by all the Customers\n",
    "df6.Upayment.value_counts().plot(kind='bar');\n",
    "beautify_plot('Counts of Payment Methods preferred by all the Customers\\n', 'Payment Methods', 'Count');"
   ]
  },
  {
   "cell_type": "code",
   "execution_count": 30,
   "metadata": {
    "execution": {
     "iopub.execute_input": "2020-09-21T08:26:24.450295Z",
     "iopub.status.busy": "2020-09-21T08:26:24.449616Z",
     "iopub.status.idle": "2020-09-21T08:26:25.160567Z",
     "shell.execute_reply": "2020-09-21T08:26:25.160022Z"
    },
    "papermill": {
     "duration": 0.771569,
     "end_time": "2020-09-21T08:26:25.160692",
     "exception": false,
     "start_time": "2020-09-21T08:26:24.389123",
     "status": "completed"
    },
    "tags": []
   },
   "outputs": [
    {
     "data": {
      "image/png": "[encoded data removed]",
      "text/plain": [
       "<Figure size 432x288 with 1 Axes>"
      ]
     },
     "metadata": {
      "needs_background": "light"
     },
     "output_type": "display_data"
    },
    {
     "data": {
      "image/png": "[encoded data removed]",
      "text/plain": [
       "<Figure size 432x288 with 1 Axes>"
      ]
     },
     "metadata": {
      "needs_background": "light"
     },
     "output_type": "display_data"
    },
    {
     "data": {
      "image/png": "[encoded data removed]",
      "text/plain": [
       "<Figure size 432x288 with 1 Axes>"
      ]
     },
     "metadata": {
      "needs_background": "light"
     },
     "output_type": "display_data"
    },
    {
     "data": {
      "image/png": "[encoded data removed]",
      "text/plain": [
       "<Figure size 432x288 with 1 Axes>"
      ]
     },
     "metadata": {
      "needs_background": "light"
     },
     "output_type": "display_data"
    }
   ],
   "source": [
    "# plot the Counts of Payment Methods preferred by Customers who use various mode(s) of Payment(s)\n",
    "df61 = df6.groupby('userID').count().reset_index()\n",
    "df61.columns = ['userID', 'count']\n",
    "df62 = df6.merge(df61).groupby('count').Upayment.value_counts().unstack()\n",
    "for i in range(0,df62.shape[0]):\n",
    "    plt.subplots(1)\n",
    "    df62.iloc[i].plot.bar()\n",
    "    beautify_plot(f'Counts of Payment Methods preferred by Customers who use {i+1} mode(s) of Payment(s)\\n', 'Payment Methods', 'Count');"
   ]
  },
  {
   "cell_type": "markdown",
   "metadata": {
    "papermill": {
     "duration": 0.051321,
     "end_time": "2020-09-21T08:26:25.263853",
     "exception": false,
     "start_time": "2020-09-21T08:26:25.212532",
     "status": "completed"
    },
    "tags": []
   },
   "source": [
    "* The distribution that we see here is that the Users who like to pay via a single mode, it is always `cash`.\n",
    "* For the others, they almost equally like to pay via cash, and cards.\n",
    "\n",
    "For the customer who don't have this data, the imputation will happen by adding `1` to cash."
   ]
  },
  {
   "cell_type": "code",
   "execution_count": 31,
   "metadata": {
    "execution": {
     "iopub.execute_input": "2020-09-21T08:26:25.379616Z",
     "iopub.status.busy": "2020-09-21T08:26:25.378716Z",
     "iopub.status.idle": "2020-09-21T08:26:25.384007Z",
     "shell.execute_reply": "2020-09-21T08:26:25.383440Z"
    },
    "papermill": {
     "duration": 0.068733,
     "end_time": "2020-09-21T08:26:25.384129",
     "exception": false,
     "start_time": "2020-09-21T08:26:25.315396",
     "status": "completed"
    },
    "tags": []
   },
   "outputs": [],
   "source": [
    "df6_final = pd.concat([df6[['userID']], pd.get_dummies(df6.Upayment, prefix='Upayment')], axis=1)\\\n",
    "              .groupby('userID').sum().reset_index() # one hot encode the features\n",
    "\n",
    "# add the dataframe to the training and testing list\n",
    "df_master_train.append(df6_final)\n",
    "df_master_test.append(df6_final)\n",
    "\n",
    "# store the imputation rules\n",
    "imputation_rules.update({i:{'fillna': 1} if i=='Upayment_cash' else {'fillna': 0} for i in df6_final.columns[1:]})"
   ]
  },
  {
   "cell_type": "markdown",
   "metadata": {
    "papermill": {
     "duration": 0.051055,
     "end_time": "2020-09-21T08:26:25.487128",
     "exception": false,
     "start_time": "2020-09-21T08:26:25.436073",
     "status": "completed"
    },
    "tags": []
   },
   "source": [
    "### 1.7 userprofile"
   ]
  },
  {
   "cell_type": "code",
   "execution_count": 32,
   "metadata": {
    "execution": {
     "iopub.execute_input": "2020-09-21T08:26:25.596221Z",
     "iopub.status.busy": "2020-09-21T08:26:25.595457Z",
     "iopub.status.idle": "2020-09-21T08:26:25.621973Z",
     "shell.execute_reply": "2020-09-21T08:26:25.621486Z"
    },
    "papermill": {
     "duration": 0.083597,
     "end_time": "2020-09-21T08:26:25.622093",
     "exception": false,
     "start_time": "2020-09-21T08:26:25.538496",
     "status": "completed"
    },
    "tags": []
   },
   "outputs": [
    {
     "name": "stdout",
     "output_type": "stream",
     "text": [
      "The shape is :: (138, 19)\n",
      "\n",
      "The # duplicates :: 0\n",
      "\n",
      "The # unique per column ::\n",
      "userID              138\n",
      "latitude            128\n",
      "longitude           126\n",
      "smoker                3\n",
      "drink_level           3\n",
      "dress_preference      5\n",
      "ambience              4\n",
      "transport             4\n",
      "marital_status        4\n",
      "hijos                 4\n",
      "birth_year           21\n",
      "interest              5\n",
      "personality           4\n",
      "religion              5\n",
      "activity              5\n",
      "color                 8\n",
      "weight               49\n",
      "budget                4\n",
      "height               38\n",
      "dtype: int64\n",
      "\n",
      "The # NaNs per column ::\n",
      "userID              0\n",
      "latitude            0\n",
      "longitude           0\n",
      "smoker              0\n",
      "drink_level         0\n",
      "dress_preference    0\n",
      "ambience            0\n",
      "transport           0\n",
      "marital_status      0\n",
      "hijos               0\n",
      "birth_year          0\n",
      "interest            0\n",
      "personality         0\n",
      "religion            0\n",
      "activity            0\n",
      "color               0\n",
      "weight              0\n",
      "budget              0\n",
      "height              0\n",
      "dtype: int64\n",
      "\n",
      "The % Primary Key common in ratings and this df :: 100.00%\n"
     ]
    }
   ],
   "source": [
    "df7 = pd.read_csv(base_loc+'userprofile.csv') # read and get info on the data\n",
    "get_info(df7, 'user')"
   ]
  },
  {
   "cell_type": "code",
   "execution_count": 33,
   "metadata": {
    "execution": {
     "iopub.execute_input": "2020-09-21T08:26:25.732559Z",
     "iopub.status.busy": "2020-09-21T08:26:25.731985Z",
     "iopub.status.idle": "2020-09-21T08:26:25.738181Z",
     "shell.execute_reply": "2020-09-21T08:26:25.738701Z"
    },
    "papermill": {
     "duration": 0.064526,
     "end_time": "2020-09-21T08:26:25.738862",
     "exception": false,
     "start_time": "2020-09-21T08:26:25.674336",
     "status": "completed"
    },
    "tags": []
   },
   "outputs": [],
   "source": [
    "df7['age'] = (2020-df7.birth_year) # get the age\n",
    "\n",
    "# get rid of some of the useless columns\n",
    "to_drop = ['latitude', 'longitude', 'height', 'birth_year']\n",
    "df7 = df7.drop(to_drop, axis=1)"
   ]
  },
  {
   "cell_type": "code",
   "execution_count": 34,
   "metadata": {
    "execution": {
     "iopub.execute_input": "2020-09-21T08:26:25.850883Z",
     "iopub.status.busy": "2020-09-21T08:26:25.850206Z",
     "iopub.status.idle": "2020-09-21T08:26:27.479795Z",
     "shell.execute_reply": "2020-09-21T08:26:27.479221Z"
    },
    "papermill": {
     "duration": 1.686089,
     "end_time": "2020-09-21T08:26:27.479914",
     "exception": false,
     "start_time": "2020-09-21T08:26:25.793825",
     "status": "completed"
    },
    "tags": []
   },
   "outputs": [
    {
     "data": {
      "image/png": "[encoded data removed]",
      "text/plain": [
       "<Figure size 432x288 with 1 Axes>"
      ]
     },
     "metadata": {
      "needs_background": "light"
     },
     "output_type": "display_data"
    },
    {
     "data": {
      "image/png": "[encoded data removed]",
      "text/plain": [
       "<Figure size 432x288 with 1 Axes>"
      ]
     },
     "metadata": {
      "needs_background": "light"
     },
     "output_type": "display_data"
    },
    {
     "data": {
      "image/png": "[encoded data removed]",
      "text/plain": [
       "<Figure size 432x288 with 1 Axes>"
      ]
     },
     "metadata": {
      "needs_background": "light"
     },
     "output_type": "display_data"
    },
    {
     "data": {
      "image/png": "[encoded data removed]",
      "text/plain": [
       "<Figure size 432x288 with 1 Axes>"
      ]
     },
     "metadata": {
      "needs_background": "light"
     },
     "output_type": "display_data"
    },
    {
     "data": {
      "image/png": "[encoded data removed]",
      "text/plain": [
       "<Figure size 432x288 with 1 Axes>"
      ]
     },
     "metadata": {
      "needs_background": "light"
     },
     "output_type": "display_data"
    },
    {
     "data": {
      "image/png": "[encoded data removed]",
      "text/plain": [
       "<Figure size 432x288 with 1 Axes>"
      ]
     },
     "metadata": {
      "needs_background": "light"
     },
     "output_type": "display_data"
    },
    {
     "data": {
      "image/png": "[encoded data removed]",
      "text/plain": [
       "<Figure size 432x288 with 1 Axes>"
      ]
     },
     "metadata": {
      "needs_background": "light"
     },
     "output_type": "display_data"
    },
    {
     "data": {
      "image/png": "[encoded data removed]",
      "text/plain": [
       "<Figure size 432x288 with 1 Axes>"
      ]
     },
     "metadata": {
      "needs_background": "light"
     },
     "output_type": "display_data"
    },
    {
     "data": {
      "image/png": "[encoded data removed]",
      "text/plain": [
       "<Figure size 432x288 with 1 Axes>"
      ]
     },
     "metadata": {
      "needs_background": "light"
     },
     "output_type": "display_data"
    },
    {
     "data": {
      "image/png": "[encoded data removed]",
      "text/plain": [
       "<Figure size 432x288 with 1 Axes>"
      ]
     },
     "metadata": {
      "needs_background": "light"
     },
     "output_type": "display_data"
    },
    {
     "data": {
      "image/png": "[encoded data removed]",
      "text/plain": [
       "<Figure size 432x288 with 1 Axes>"
      ]
     },
     "metadata": {
      "needs_background": "light"
     },
     "output_type": "display_data"
    },
    {
     "data": {
      "image/png": "[encoded data removed]",
      "text/plain": [
       "<Figure size 432x288 with 1 Axes>"
      ]
     },
     "metadata": {
      "needs_background": "light"
     },
     "output_type": "display_data"
    },
    {
     "data": {
      "image/png": "[encoded data removed]",
      "text/plain": [
       "<Figure size 432x288 with 1 Axes>"
      ]
     },
     "metadata": {
      "needs_background": "light"
     },
     "output_type": "display_data"
    }
   ],
   "source": [
    "# Count of all the categorical variables\n",
    "df7 = df7.replace('?', 'none') # replace the ? with none\n",
    "for i in list(df7.select_dtypes('object').columns)[1:]:\n",
    "    df7[i] = process_categorical(df7[i])\n",
    "    plt.subplots(1)\n",
    "    df7[i].value_counts().plot.bar()\n",
    "    beautify_plot(f'Count of {i}(s) among all Users\\n', f'{i}(s)', 'Count');"
   ]
  },
  {
   "cell_type": "markdown",
   "metadata": {
    "papermill": {
     "duration": 0.059853,
     "end_time": "2020-09-21T08:26:27.600931",
     "exception": false,
     "start_time": "2020-09-21T08:26:27.541078",
     "status": "completed"
    },
    "tags": []
   },
   "source": [
    "Among the various relations, we can see that the budget after grouping together the `low`, `none` and `high`, `medium` can be a nice way to segment the data for the models and build two different ones."
   ]
  },
  {
   "cell_type": "code",
   "execution_count": 35,
   "metadata": {
    "execution": {
     "iopub.execute_input": "2020-09-21T08:26:27.728480Z",
     "iopub.status.busy": "2020-09-21T08:26:27.727925Z",
     "iopub.status.idle": "2020-09-21T08:26:27.730349Z",
     "shell.execute_reply": "2020-09-21T08:26:27.730734Z"
    },
    "papermill": {
     "duration": 0.06979,
     "end_time": "2020-09-21T08:26:27.730876",
     "exception": false,
     "start_time": "2020-09-21T08:26:27.661086",
     "status": "completed"
    },
    "tags": []
   },
   "outputs": [],
   "source": [
    "df7['budget'] = df7.budget.replace('none', 'low').replace('high', 'medium') # bin the budget"
   ]
  },
  {
   "cell_type": "code",
   "execution_count": 36,
   "metadata": {
    "execution": {
     "iopub.execute_input": "2020-09-21T08:26:27.867512Z",
     "iopub.status.busy": "2020-09-21T08:26:27.866878Z",
     "iopub.status.idle": "2020-09-21T08:26:28.026723Z",
     "shell.execute_reply": "2020-09-21T08:26:28.027199Z"
    },
    "papermill": {
     "duration": 0.234157,
     "end_time": "2020-09-21T08:26:28.027344",
     "exception": false,
     "start_time": "2020-09-21T08:26:27.793187",
     "status": "completed"
    },
    "tags": []
   },
   "outputs": [
    {
     "data": {
      "image/png": "[encoded data removed]",
      "text/plain": [
       "<Figure size 432x288 with 1 Axes>"
      ]
     },
     "metadata": {
      "needs_background": "light"
     },
     "output_type": "display_data"
    }
   ],
   "source": [
    "# plot the Histogram of Weight of all Users\\\n",
    "df7.weight.plot.hist();\n",
    "beautify_plot(f'Histogram of Weight of all Users\\n', 'Frequency', 'Weight');"
   ]
  },
  {
   "cell_type": "code",
   "execution_count": 37,
   "metadata": {
    "execution": {
     "iopub.execute_input": "2020-09-21T08:26:28.162593Z",
     "iopub.status.busy": "2020-09-21T08:26:28.154316Z",
     "iopub.status.idle": "2020-09-21T08:26:28.311711Z",
     "shell.execute_reply": "2020-09-21T08:26:28.311223Z"
    },
    "papermill": {
     "duration": 0.223581,
     "end_time": "2020-09-21T08:26:28.311818",
     "exception": false,
     "start_time": "2020-09-21T08:26:28.088237",
     "status": "completed"
    },
    "tags": []
   },
   "outputs": [
    {
     "data": {
      "image/png": "[encoded data removed]",
      "text/plain": [
       "<Figure size 432x288 with 1 Axes>"
      ]
     },
     "metadata": {
      "needs_background": "light"
     },
     "output_type": "display_data"
    }
   ],
   "source": [
    "# plot the Histogram of Age of all Users\\\n",
    "df7.age.plot.hist();\n",
    "beautify_plot(f'Histogram of Age of all Users\\n', 'Frequency', 'Age');"
   ]
  },
  {
   "cell_type": "code",
   "execution_count": 38,
   "metadata": {
    "execution": {
     "iopub.execute_input": "2020-09-21T08:26:28.448211Z",
     "iopub.status.busy": "2020-09-21T08:26:28.447186Z",
     "iopub.status.idle": "2020-09-21T08:26:28.465916Z",
     "shell.execute_reply": "2020-09-21T08:26:28.465242Z"
    },
    "papermill": {
     "duration": 0.090902,
     "end_time": "2020-09-21T08:26:28.466043",
     "exception": false,
     "start_time": "2020-09-21T08:26:28.375141",
     "status": "completed"
    },
    "tags": []
   },
   "outputs": [],
   "source": [
    "df7_final = pd.concat([pd.get_dummies(df7.drop(['userID', 'age', 'weight'], axis=1)), df7[['userID', 'age', 'weight']]], axis=1)\\\n",
    "              .groupby('userID').sum().reset_index() # one hot encode the features\n",
    "\n",
    "# add the dataframe to the training and testing list\n",
    "df_master_train.append(df7_final) \n",
    "df_master_test.append(df7_final)"
   ]
  },
  {
   "cell_type": "markdown",
   "metadata": {
    "papermill": {
     "duration": 0.061257,
     "end_time": "2020-09-21T08:26:28.588777",
     "exception": false,
     "start_time": "2020-09-21T08:26:28.527520",
     "status": "completed"
    },
    "tags": []
   },
   "source": [
    "## 2. Creating Training Data"
   ]
  },
  {
   "cell_type": "code",
   "execution_count": 39,
   "metadata": {
    "execution": {
     "iopub.execute_input": "2020-09-21T08:26:28.715747Z",
     "iopub.status.busy": "2020-09-21T08:26:28.714892Z",
     "iopub.status.idle": "2020-09-21T08:26:28.747108Z",
     "shell.execute_reply": "2020-09-21T08:26:28.746446Z"
    },
    "papermill": {
     "duration": 0.096797,
     "end_time": "2020-09-21T08:26:28.747222",
     "exception": false,
     "start_time": "2020-09-21T08:26:28.650425",
     "status": "completed"
    },
    "tags": []
   },
   "outputs": [],
   "source": [
    "# reduce and create a single dataframe\n",
    "df_train = reduce(lambda x,y: x.merge(y, 'left'), df_master_train)\n",
    "assert(df_train.shape[0] == df_master_train[0].shape[0])"
   ]
  },
  {
   "cell_type": "code",
   "execution_count": 40,
   "metadata": {
    "execution": {
     "iopub.execute_input": "2020-09-21T08:26:28.880934Z",
     "iopub.status.busy": "2020-09-21T08:26:28.879982Z",
     "iopub.status.idle": "2020-09-21T08:26:28.898741Z",
     "shell.execute_reply": "2020-09-21T08:26:28.899126Z"
    },
    "papermill": {
     "duration": 0.089077,
     "end_time": "2020-09-21T08:26:28.899271",
     "exception": false,
     "start_time": "2020-09-21T08:26:28.810194",
     "status": "completed"
    },
    "tags": []
   },
   "outputs": [
    {
     "name": "stdout",
     "output_type": "stream",
     "text": [
      "# NaNs :: 4562\n",
      "# NaNs after applying Rules :: 0\n"
     ]
    }
   ],
   "source": [
    "# apply the imputation rules\n",
    "print(f'# NaNs :: {reduce(lambda x,y: x+y, df_train.isna().sum())}')\n",
    "for i in imputation_rules.keys():\n",
    "    if type(imputation_rules[i]) == dict: # if it is fillna\n",
    "        for j in imputation_rules[i].keys():\n",
    "            if j == 'fillna':\n",
    "                df_train[i] = df_train[i].fillna(imputation_rules[i][j])\n",
    "    else: # if it is mode\n",
    "        df_train[i] = df_train[i].fillna(df_train[i].mode()[0])\n",
    "print(f'# NaNs after applying Rules :: {reduce(lambda x,y: x+y, df_train.isna().sum())}')"
   ]
  },
  {
   "cell_type": "markdown",
   "metadata": {
    "papermill": {
     "duration": 0.06484,
     "end_time": "2020-09-21T08:26:29.025876",
     "exception": false,
     "start_time": "2020-09-21T08:26:28.961036",
     "status": "completed"
    },
    "tags": []
   },
   "source": [
    "## 3. Creating Test and Validation Data"
   ]
  },
  {
   "cell_type": "code",
   "execution_count": 41,
   "metadata": {
    "execution": {
     "iopub.execute_input": "2020-09-21T08:26:29.347753Z",
     "iopub.status.busy": "2020-09-21T08:26:29.163356Z",
     "iopub.status.idle": "2020-09-21T08:26:29.716201Z",
     "shell.execute_reply": "2020-09-21T08:26:29.716659Z"
    },
    "papermill": {
     "duration": 0.628459,
     "end_time": "2020-09-21T08:26:29.716830",
     "exception": false,
     "start_time": "2020-09-21T08:26:29.088371",
     "status": "completed"
    },
    "tags": []
   },
   "outputs": [],
   "source": [
    "# create exhaustive list of places and users which appear in the files\n",
    "places = set(reduce(lambda x,y: x[['placeID']].append(y[['placeID']]), df_master_test[:4]).placeID)\n",
    "users = set(reduce(lambda x,y: x[['userID']].append(y[['userID']]), df_master_test[4:]).userID)\n",
    "df_test = pd.DataFrame(list(product(places, users)), columns=['placeID', 'userID'])\n",
    "\n",
    "# take only those which are not rated\n",
    "df_test = df_test.merge(df_train[['placeID', 'userID']], 'outer', indicator=True).query('_merge == \"left_only\"').drop('_merge', axis=1)\n",
    "ast_shape = df_test.shape\n",
    "\n",
    "# get the profiles for this master data\n",
    "df_test = [df_test] + df_master_test\n",
    "df_test = reduce(lambda x,y: x.merge(y, 'left'), df_test)\n",
    "\n",
    "assert(df_test.shape[0] == ast_shape[0])"
   ]
  },
  {
   "cell_type": "code",
   "execution_count": 42,
   "metadata": {
    "execution": {
     "iopub.execute_input": "2020-09-21T08:26:29.847230Z",
     "iopub.status.busy": "2020-09-21T08:26:29.846482Z",
     "iopub.status.idle": "2020-09-21T08:26:29.975942Z",
     "shell.execute_reply": "2020-09-21T08:26:29.976545Z"
    },
    "papermill": {
     "duration": 0.196243,
     "end_time": "2020-09-21T08:26:29.976764",
     "exception": false,
     "start_time": "2020-09-21T08:26:29.780521",
     "status": "completed"
    },
    "tags": []
   },
   "outputs": [
    {
     "name": "stdout",
     "output_type": "stream",
     "text": [
      "# NaNs :: 1120818\n",
      "# NaNs after applying Rules :: 0\n"
     ]
    }
   ],
   "source": [
    "# apply the imputation rules\n",
    "print(f'# NaNs :: {reduce(lambda x,y: x+y, df_test.isna().sum())}')\n",
    "for i in imputation_rules:\n",
    "    if type(imputation_rules[i]) == dict: # if fillna\n",
    "        for j in imputation_rules[i].keys():\n",
    "            if j == 'fillna':\n",
    "                df_test[i] = df_test[i].fillna(imputation_rules[i][j])\n",
    "    else: # if mode\n",
    "        df_test[i] = df_test[i].fillna(df_test[i].mode()[0])\n",
    "print(f'# NaNs after applying Rules :: {reduce(lambda x,y: x+y, df_test.isna().sum())}')"
   ]
  },
  {
   "cell_type": "code",
   "execution_count": 43,
   "metadata": {
    "execution": {
     "iopub.execute_input": "2020-09-21T08:26:30.117392Z",
     "iopub.status.busy": "2020-09-21T08:26:30.115824Z",
     "iopub.status.idle": "2020-09-21T08:26:30.224179Z",
     "shell.execute_reply": "2020-09-21T08:26:30.223605Z"
    },
    "papermill": {
     "duration": 0.183307,
     "end_time": "2020-09-21T08:26:30.224286",
     "exception": false,
     "start_time": "2020-09-21T08:26:30.040979",
     "status": "completed"
    },
    "tags": []
   },
   "outputs": [
    {
     "data": {
      "image/png": "[encoded data removed]",
      "text/plain": [
       "<Figure size 432x288 with 1 Axes>"
      ]
     },
     "metadata": {
      "needs_background": "light"
     },
     "output_type": "display_data"
    }
   ],
   "source": [
    "# plot the Overall Rating Counts\n",
    "df_train.rating.value_counts().plot.bar()\n",
    "beautify_plot('Overall Rating Counts\\n', 'Ratings', 'Counts');"
   ]
  },
  {
   "cell_type": "markdown",
   "metadata": {
    "papermill": {
     "duration": 0.065004,
     "end_time": "2020-09-21T08:26:30.351863",
     "exception": false,
     "start_time": "2020-09-21T08:26:30.286859",
     "status": "completed"
    },
    "tags": []
   },
   "source": [
    "We see no imbalance in the dataset or presence of outliers in this case. We need to convert the ratings into a continuous value. We will add some noise (0-1 in real line) to the rating and do a log transform."
   ]
  },
  {
   "cell_type": "code",
   "execution_count": 44,
   "metadata": {
    "execution": {
     "iopub.execute_input": "2020-09-21T08:26:30.486590Z",
     "iopub.status.busy": "2020-09-21T08:26:30.485733Z",
     "iopub.status.idle": "2020-09-21T08:26:30.494786Z",
     "shell.execute_reply": "2020-09-21T08:26:30.494181Z"
    },
    "papermill": {
     "duration": 0.079656,
     "end_time": "2020-09-21T08:26:30.494897",
     "exception": false,
     "start_time": "2020-09-21T08:26:30.415241",
     "status": "completed"
    },
    "tags": []
   },
   "outputs": [],
   "source": [
    "# create the validation training and test data\n",
    "to_drop = ['rating', 'service_rating', 'food_rating', 'userID', 'placeID']\n",
    "X_train = df_train.drop(to_drop, axis=1).astype('int')\n",
    "y_train = df_train.rating\n",
    "\n",
    "X_vtrain, X_vtest, y_vtrain, y_vtest = train_test_split(X_train, y_train, test_size=0.25, random_state=42)\n",
    "\n",
    "y_vtrain_cont = np.log1p(y_vtrain+np.random.rand())\n",
    "y_vtest_cont = np.log1p(y_vtest+np.random.rand())"
   ]
  },
  {
   "cell_type": "markdown",
   "metadata": {
    "papermill": {
     "duration": 0.062785,
     "end_time": "2020-09-21T08:26:30.620611",
     "exception": false,
     "start_time": "2020-09-21T08:26:30.557826",
     "status": "completed"
    },
    "tags": []
   },
   "source": [
    "## 4. Regression Models\n",
    "### 4.1 Linear Regression Model"
   ]
  },
  {
   "cell_type": "code",
   "execution_count": 45,
   "metadata": {
    "execution": {
     "iopub.execute_input": "2020-09-21T08:26:30.752861Z",
     "iopub.status.busy": "2020-09-21T08:26:30.752269Z",
     "iopub.status.idle": "2020-09-21T08:26:30.754764Z",
     "shell.execute_reply": "2020-09-21T08:26:30.754233Z"
    },
    "papermill": {
     "duration": 0.070912,
     "end_time": "2020-09-21T08:26:30.754866",
     "exception": false,
     "start_time": "2020-09-21T08:26:30.683954",
     "status": "completed"
    },
    "tags": []
   },
   "outputs": [],
   "source": [
    "def percentage_error(y_true, y_pred):\n",
    "    return np.mean(np.abs((y_true - y_pred)*0.50))"
   ]
  },
  {
   "cell_type": "code",
   "execution_count": 46,
   "metadata": {
    "execution": {
     "iopub.execute_input": "2020-09-21T08:26:30.928543Z",
     "iopub.status.busy": "2020-09-21T08:26:30.927596Z",
     "iopub.status.idle": "2020-09-21T08:26:31.147267Z",
     "shell.execute_reply": "2020-09-21T08:26:31.148031Z"
    },
    "papermill": {
     "duration": 0.329174,
     "end_time": "2020-09-21T08:26:31.148242",
     "exception": false,
     "start_time": "2020-09-21T08:26:30.819068",
     "status": "completed"
    },
    "tags": []
   },
   "outputs": [
    {
     "data": {
      "text/html": [
       "<table class=\"simpletable\">\n",
       "<caption>OLS Regression Results</caption>\n",
       "<tr>\n",
       "  <th>Dep. Variable:</th>         <td>rating</td>      <th>  R-squared:         </th> <td>   0.308</td>\n",
       "</tr>\n",
       "<tr>\n",
       "  <th>Model:</th>                   <td>OLS</td>       <th>  Adj. R-squared:    </th> <td>   0.238</td>\n",
       "</tr>\n",
       "<tr>\n",
       "  <th>Method:</th>             <td>Least Squares</td>  <th>  F-statistic:       </th> <td>   4.393</td>\n",
       "</tr>\n",
       "<tr>\n",
       "  <th>Date:</th>             <td>Mon, 21 Sep 2020</td> <th>  Prob (F-statistic):</th> <td>6.61e-28</td>\n",
       "</tr>\n",
       "<tr>\n",
       "  <th>Time:</th>                 <td>08:26:31</td>     <th>  Log-Likelihood:    </th> <td> -5.8133</td>\n",
       "</tr>\n",
       "<tr>\n",
       "  <th>No. Observations:</th>      <td>   870</td>      <th>  AIC:               </th> <td>   173.6</td>\n",
       "</tr>\n",
       "<tr>\n",
       "  <th>Df Residuals:</th>          <td>   789</td>      <th>  BIC:               </th> <td>   559.9</td>\n",
       "</tr>\n",
       "<tr>\n",
       "  <th>Df Model:</th>              <td>    80</td>      <th>                     </th>     <td> </td>   \n",
       "</tr>\n",
       "<tr>\n",
       "  <th>Covariance Type:</th>      <td>nonrobust</td>    <th>                     </th>     <td> </td>   \n",
       "</tr>\n",
       "</table>\n",
       "<table class=\"simpletable\">\n",
       "<tr>\n",
       "                 <td></td>                    <th>coef</th>     <th>std err</th>      <th>t</th>      <th>P>|t|</th>  <th>[0.025</th>    <th>0.975]</th>  \n",
       "</tr>\n",
       "<tr>\n",
       "  <th>Rpayment_american_express</th>       <td>    0.0676</td> <td>    0.029</td> <td>    2.322</td> <td> 0.020</td> <td>    0.010</td> <td>    0.125</td>\n",
       "</tr>\n",
       "<tr>\n",
       "  <th>Rpayment_bank_debit_cards</th>       <td>    0.0833</td> <td>    0.044</td> <td>    1.900</td> <td> 0.058</td> <td>   -0.003</td> <td>    0.169</td>\n",
       "</tr>\n",
       "<tr>\n",
       "  <th>Rpayment_carte_blanche</th>          <td>    0.0663</td> <td>    0.128</td> <td>    0.519</td> <td> 0.604</td> <td>   -0.184</td> <td>    0.317</td>\n",
       "</tr>\n",
       "<tr>\n",
       "  <th>Rpayment_cash</th>                   <td>   -0.0307</td> <td>    0.040</td> <td>   -0.775</td> <td> 0.439</td> <td>   -0.109</td> <td>    0.047</td>\n",
       "</tr>\n",
       "<tr>\n",
       "  <th>Rpayment_checks</th>                 <td>    0.1974</td> <td>    0.176</td> <td>    1.121</td> <td> 0.263</td> <td>   -0.148</td> <td>    0.543</td>\n",
       "</tr>\n",
       "<tr>\n",
       "  <th>Rpayment_diners_club</th>            <td>-9.659e-14</td> <td> 9.25e-14</td> <td>   -1.044</td> <td> 0.297</td> <td>-2.78e-13</td> <td>  8.5e-14</td>\n",
       "</tr>\n",
       "<tr>\n",
       "  <th>Rpayment_discover</th>               <td>    0.3716</td> <td>    0.188</td> <td>    1.976</td> <td> 0.048</td> <td>    0.003</td> <td>    0.741</td>\n",
       "</tr>\n",
       "<tr>\n",
       "  <th>Rpayment_gift_certificates</th>      <td>-6.075e-14</td> <td> 4.98e-14</td> <td>   -1.221</td> <td> 0.223</td> <td>-1.58e-13</td> <td> 3.69e-14</td>\n",
       "</tr>\n",
       "<tr>\n",
       "  <th>Rpayment_japan_credit_bureau</th>    <td>-2.651e-14</td> <td>  3.9e-14</td> <td>   -0.680</td> <td> 0.497</td> <td>-1.03e-13</td> <td>    5e-14</td>\n",
       "</tr>\n",
       "<tr>\n",
       "  <th>Rpayment_mastercard_eurocard</th>    <td>    0.0841</td> <td>    0.062</td> <td>    1.359</td> <td> 0.175</td> <td>   -0.037</td> <td>    0.206</td>\n",
       "</tr>\n",
       "<tr>\n",
       "  <th>Rpayment_visa</th>                   <td>   -0.0681</td> <td>    0.062</td> <td>   -1.101</td> <td> 0.271</td> <td>   -0.190</td> <td>    0.053</td>\n",
       "</tr>\n",
       "<tr>\n",
       "  <th>Rcuisine_american</th>               <td>   -0.0687</td> <td>    0.065</td> <td>   -1.061</td> <td> 0.289</td> <td>   -0.196</td> <td>    0.058</td>\n",
       "</tr>\n",
       "<tr>\n",
       "  <th>Rcuisine_bar</th>                    <td>   -0.0362</td> <td>    0.034</td> <td>   -1.063</td> <td> 0.288</td> <td>   -0.103</td> <td>    0.031</td>\n",
       "</tr>\n",
       "<tr>\n",
       "  <th>Rcuisine_cafe_coffee_shop</th>       <td>    0.1135</td> <td>    0.092</td> <td>    1.236</td> <td> 0.217</td> <td>   -0.067</td> <td>    0.294</td>\n",
       "</tr>\n",
       "<tr>\n",
       "  <th>Rcuisine_dutch_belgian</th>          <td> 7.857e-15</td> <td> 3.04e-14</td> <td>    0.259</td> <td> 0.796</td> <td>-5.18e-14</td> <td> 6.75e-14</td>\n",
       "</tr>\n",
       "<tr>\n",
       "  <th>Rcuisine_french</th>                 <td>-5.091e-15</td> <td> 8.43e-15</td> <td>   -0.604</td> <td> 0.546</td> <td>-2.16e-14</td> <td> 1.15e-14</td>\n",
       "</tr>\n",
       "<tr>\n",
       "  <th>Rcuisine_greek</th>                  <td> 6.347e-14</td> <td> 5.85e-14</td> <td>    1.084</td> <td> 0.279</td> <td>-5.14e-14</td> <td> 1.78e-13</td>\n",
       "</tr>\n",
       "<tr>\n",
       "  <th>Rcuisine_international</th>          <td>    0.0503</td> <td>    0.075</td> <td>    0.675</td> <td> 0.500</td> <td>   -0.096</td> <td>    0.197</td>\n",
       "</tr>\n",
       "<tr>\n",
       "  <th>Rcuisine_italian</th>                <td>   -0.1090</td> <td>    0.068</td> <td>   -1.607</td> <td> 0.108</td> <td>   -0.242</td> <td>    0.024</td>\n",
       "</tr>\n",
       "<tr>\n",
       "  <th>Rcuisine_mexican</th>                <td>    0.0018</td> <td>    0.041</td> <td>    0.045</td> <td> 0.964</td> <td>   -0.078</td> <td>    0.082</td>\n",
       "</tr>\n",
       "<tr>\n",
       "  <th>Rcuisine_others</th>                 <td>   -0.0028</td> <td>    0.030</td> <td>   -0.092</td> <td> 0.927</td> <td>   -0.062</td> <td>    0.056</td>\n",
       "</tr>\n",
       "<tr>\n",
       "  <th>Rcuisine_pizzeria</th>               <td>   -0.0253</td> <td>    0.047</td> <td>   -0.533</td> <td> 0.594</td> <td>   -0.118</td> <td>    0.068</td>\n",
       "</tr>\n",
       "<tr>\n",
       "  <th>mon_tue_wed_thu_fri</th>             <td>   -0.0013</td> <td>    0.003</td> <td>   -0.414</td> <td> 0.679</td> <td>   -0.008</td> <td>    0.005</td>\n",
       "</tr>\n",
       "<tr>\n",
       "  <th>sat</th>                             <td>    0.0022</td> <td>    0.004</td> <td>    0.536</td> <td> 0.592</td> <td>   -0.006</td> <td>    0.010</td>\n",
       "</tr>\n",
       "<tr>\n",
       "  <th>sun</th>                             <td>    0.0007</td> <td>    0.002</td> <td>    0.299</td> <td> 0.765</td> <td>   -0.004</td> <td>    0.006</td>\n",
       "</tr>\n",
       "<tr>\n",
       "  <th>parking_lot_fee</th>                 <td> 1.189e-15</td> <td> 9.15e-16</td> <td>    1.299</td> <td> 0.194</td> <td>-6.07e-16</td> <td> 2.98e-15</td>\n",
       "</tr>\n",
       "<tr>\n",
       "  <th>parking_lot_none</th>                <td>    0.1372</td> <td>    0.029</td> <td>    4.799</td> <td> 0.000</td> <td>    0.081</td> <td>    0.193</td>\n",
       "</tr>\n",
       "<tr>\n",
       "  <th>parking_lot_public</th>              <td>    0.1359</td> <td>    0.034</td> <td>    4.005</td> <td> 0.000</td> <td>    0.069</td> <td>    0.203</td>\n",
       "</tr>\n",
       "<tr>\n",
       "  <th>parking_lot_street</th>              <td>-1.595e-15</td> <td> 3.89e-16</td> <td>   -4.107</td> <td> 0.000</td> <td>-2.36e-15</td> <td>-8.33e-16</td>\n",
       "</tr>\n",
       "<tr>\n",
       "  <th>parking_lot_valet parking</th>       <td>   -0.0550</td> <td>    0.072</td> <td>   -0.763</td> <td> 0.446</td> <td>   -0.196</td> <td>    0.086</td>\n",
       "</tr>\n",
       "<tr>\n",
       "  <th>parking_lot_validated parking</th>   <td>  6.93e-16</td> <td> 3.51e-16</td> <td>    1.973</td> <td> 0.049</td> <td> 3.49e-18</td> <td> 1.38e-15</td>\n",
       "</tr>\n",
       "<tr>\n",
       "  <th>parking_lot_yes</th>                 <td>    0.1387</td> <td>    0.028</td> <td>    4.911</td> <td> 0.000</td> <td>    0.083</td> <td>    0.194</td>\n",
       "</tr>\n",
       "<tr>\n",
       "  <th>Ucuisine_american</th>               <td>   -0.0369</td> <td>    0.051</td> <td>   -0.729</td> <td> 0.466</td> <td>   -0.136</td> <td>    0.062</td>\n",
       "</tr>\n",
       "<tr>\n",
       "  <th>Ucuisine_bar</th>                    <td>   -0.0495</td> <td>    0.102</td> <td>   -0.486</td> <td> 0.627</td> <td>   -0.249</td> <td>    0.150</td>\n",
       "</tr>\n",
       "<tr>\n",
       "  <th>Ucuisine_cafe_coffee_shop</th>       <td>    0.4281</td> <td>    0.184</td> <td>    2.331</td> <td> 0.020</td> <td>    0.068</td> <td>    0.789</td>\n",
       "</tr>\n",
       "<tr>\n",
       "  <th>Ucuisine_dutch_belgian</th>          <td>    0.0259</td> <td>    0.389</td> <td>    0.067</td> <td> 0.947</td> <td>   -0.737</td> <td>    0.789</td>\n",
       "</tr>\n",
       "<tr>\n",
       "  <th>Ucuisine_french</th>                 <td>    0.0259</td> <td>    0.389</td> <td>    0.067</td> <td> 0.947</td> <td>   -0.737</td> <td>    0.789</td>\n",
       "</tr>\n",
       "<tr>\n",
       "  <th>Ucuisine_greek</th>                  <td>    0.0259</td> <td>    0.389</td> <td>    0.067</td> <td> 0.947</td> <td>   -0.737</td> <td>    0.789</td>\n",
       "</tr>\n",
       "<tr>\n",
       "  <th>Ucuisine_international</th>          <td>    0.0259</td> <td>    0.389</td> <td>    0.067</td> <td> 0.947</td> <td>   -0.737</td> <td>    0.789</td>\n",
       "</tr>\n",
       "<tr>\n",
       "  <th>Ucuisine_italian</th>                <td>   -0.2564</td> <td>    0.081</td> <td>   -3.184</td> <td> 0.002</td> <td>   -0.414</td> <td>   -0.098</td>\n",
       "</tr>\n",
       "<tr>\n",
       "  <th>Ucuisine_mexican</th>                <td>   -0.0671</td> <td>    0.032</td> <td>   -2.067</td> <td> 0.039</td> <td>   -0.131</td> <td>   -0.003</td>\n",
       "</tr>\n",
       "<tr>\n",
       "  <th>Ucuisine_others</th>                 <td>   -0.0002</td> <td>    0.018</td> <td>   -0.008</td> <td> 0.993</td> <td>   -0.035</td> <td>    0.035</td>\n",
       "</tr>\n",
       "<tr>\n",
       "  <th>Ucuisine_pizzeria</th>               <td>   -0.1752</td> <td>    0.063</td> <td>   -2.780</td> <td> 0.006</td> <td>   -0.299</td> <td>   -0.051</td>\n",
       "</tr>\n",
       "<tr>\n",
       "  <th>Upayment_american_express</th>       <td>    0.0489</td> <td>    0.125</td> <td>    0.390</td> <td> 0.696</td> <td>   -0.197</td> <td>    0.295</td>\n",
       "</tr>\n",
       "<tr>\n",
       "  <th>Upayment_bank_debit_cards</th>       <td>   -0.0265</td> <td>    0.051</td> <td>   -0.524</td> <td> 0.601</td> <td>   -0.126</td> <td>    0.073</td>\n",
       "</tr>\n",
       "<tr>\n",
       "  <th>Upayment_cash</th>                   <td>   -0.1488</td> <td>    0.131</td> <td>   -1.139</td> <td> 0.255</td> <td>   -0.405</td> <td>    0.108</td>\n",
       "</tr>\n",
       "<tr>\n",
       "  <th>Upayment_mastercard_eurocard</th>    <td>   -0.2253</td> <td>    0.093</td> <td>   -2.429</td> <td> 0.015</td> <td>   -0.407</td> <td>   -0.043</td>\n",
       "</tr>\n",
       "<tr>\n",
       "  <th>Upayment_visa</th>                   <td>    0.0069</td> <td>    0.047</td> <td>    0.148</td> <td> 0.883</td> <td>   -0.085</td> <td>    0.099</td>\n",
       "</tr>\n",
       "<tr>\n",
       "  <th>smoker_false</th>                    <td>    0.1609</td> <td>    0.043</td> <td>    3.735</td> <td> 0.000</td> <td>    0.076</td> <td>    0.245</td>\n",
       "</tr>\n",
       "<tr>\n",
       "  <th>smoker_none</th>                     <td>    0.0604</td> <td>    0.084</td> <td>    0.716</td> <td> 0.474</td> <td>   -0.105</td> <td>    0.226</td>\n",
       "</tr>\n",
       "<tr>\n",
       "  <th>smoker_true</th>                     <td>    0.1356</td> <td>    0.048</td> <td>    2.848</td> <td> 0.005</td> <td>    0.042</td> <td>    0.229</td>\n",
       "</tr>\n",
       "<tr>\n",
       "  <th>drink_level_abstemious</th>          <td>    0.1225</td> <td>    0.024</td> <td>    5.118</td> <td> 0.000</td> <td>    0.076</td> <td>    0.170</td>\n",
       "</tr>\n",
       "<tr>\n",
       "  <th>drink_level_casual_drinker</th>      <td>    0.0424</td> <td>    0.024</td> <td>    1.759</td> <td> 0.079</td> <td>   -0.005</td> <td>    0.090</td>\n",
       "</tr>\n",
       "<tr>\n",
       "  <th>drink_level_social_drinker</th>      <td>    0.1920</td> <td>    0.027</td> <td>    7.010</td> <td> 0.000</td> <td>    0.138</td> <td>    0.246</td>\n",
       "</tr>\n",
       "<tr>\n",
       "  <th>dress_preference_elegant</th>        <td>    0.1774</td> <td>    0.078</td> <td>    2.264</td> <td> 0.024</td> <td>    0.024</td> <td>    0.331</td>\n",
       "</tr>\n",
       "<tr>\n",
       "  <th>dress_preference_formal</th>         <td>    0.0951</td> <td>    0.032</td> <td>    2.931</td> <td> 0.003</td> <td>    0.031</td> <td>    0.159</td>\n",
       "</tr>\n",
       "<tr>\n",
       "  <th>dress_preference_informal</th>       <td>    0.0105</td> <td>    0.036</td> <td>    0.294</td> <td> 0.769</td> <td>   -0.060</td> <td>    0.080</td>\n",
       "</tr>\n",
       "<tr>\n",
       "  <th>dress_preference_no_preference</th>  <td>    0.0074</td> <td>    0.036</td> <td>    0.208</td> <td> 0.835</td> <td>   -0.062</td> <td>    0.077</td>\n",
       "</tr>\n",
       "<tr>\n",
       "  <th>dress_preference_none</th>           <td>    0.0665</td> <td>    0.080</td> <td>    0.832</td> <td> 0.406</td> <td>   -0.091</td> <td>    0.224</td>\n",
       "</tr>\n",
       "<tr>\n",
       "  <th>ambience_family</th>                 <td>    0.0288</td> <td>    0.032</td> <td>    0.914</td> <td> 0.361</td> <td>   -0.033</td> <td>    0.091</td>\n",
       "</tr>\n",
       "<tr>\n",
       "  <th>ambience_friends</th>                <td>   -0.0330</td> <td>    0.033</td> <td>   -1.004</td> <td> 0.316</td> <td>   -0.098</td> <td>    0.032</td>\n",
       "</tr>\n",
       "<tr>\n",
       "  <th>ambience_none</th>                   <td>    0.2995</td> <td>    0.072</td> <td>    4.143</td> <td> 0.000</td> <td>    0.158</td> <td>    0.441</td>\n",
       "</tr>\n",
       "<tr>\n",
       "  <th>ambience_solitary</th>               <td>    0.0616</td> <td>    0.040</td> <td>    1.522</td> <td> 0.128</td> <td>   -0.018</td> <td>    0.141</td>\n",
       "</tr>\n",
       "<tr>\n",
       "  <th>transport_car_owner</th>             <td>    0.0982</td> <td>    0.033</td> <td>    2.962</td> <td> 0.003</td> <td>    0.033</td> <td>    0.163</td>\n",
       "</tr>\n",
       "<tr>\n",
       "  <th>transport_none</th>                  <td>    0.2261</td> <td>    0.077</td> <td>    2.940</td> <td> 0.003</td> <td>    0.075</td> <td>    0.377</td>\n",
       "</tr>\n",
       "<tr>\n",
       "  <th>transport_on_foot</th>               <td>    0.0393</td> <td>    0.039</td> <td>    1.013</td> <td> 0.311</td> <td>   -0.037</td> <td>    0.116</td>\n",
       "</tr>\n",
       "<tr>\n",
       "  <th>transport_public</th>                <td>   -0.0068</td> <td>    0.032</td> <td>   -0.210</td> <td> 0.834</td> <td>   -0.070</td> <td>    0.056</td>\n",
       "</tr>\n",
       "<tr>\n",
       "  <th>marital_status_married</th>          <td>    0.2617</td> <td>    0.094</td> <td>    2.792</td> <td> 0.005</td> <td>    0.078</td> <td>    0.446</td>\n",
       "</tr>\n",
       "<tr>\n",
       "  <th>marital_status_none</th>             <td>   -0.4845</td> <td>    0.204</td> <td>   -2.377</td> <td> 0.018</td> <td>   -0.885</td> <td>   -0.084</td>\n",
       "</tr>\n",
       "<tr>\n",
       "  <th>marital_status_single</th>           <td>    0.0314</td> <td>    0.066</td> <td>    0.474</td> <td> 0.636</td> <td>   -0.099</td> <td>    0.162</td>\n",
       "</tr>\n",
       "<tr>\n",
       "  <th>marital_status_widow</th>            <td>    0.5483</td> <td>    0.142</td> <td>    3.859</td> <td> 0.000</td> <td>    0.269</td> <td>    0.827</td>\n",
       "</tr>\n",
       "<tr>\n",
       "  <th>hijos_dependent</th>                 <td>   -0.0680</td> <td>    0.098</td> <td>   -0.697</td> <td> 0.486</td> <td>   -0.260</td> <td>    0.124</td>\n",
       "</tr>\n",
       "<tr>\n",
       "  <th>hijos_independent</th>               <td>    0.2398</td> <td>    0.050</td> <td>    4.829</td> <td> 0.000</td> <td>    0.142</td> <td>    0.337</td>\n",
       "</tr>\n",
       "<tr>\n",
       "  <th>hijos_kids</th>                      <td>   -0.0072</td> <td>    0.068</td> <td>   -0.106</td> <td> 0.916</td> <td>   -0.141</td> <td>    0.127</td>\n",
       "</tr>\n",
       "<tr>\n",
       "  <th>hijos_none</th>                      <td>    0.1923</td> <td>    0.063</td> <td>    3.041</td> <td> 0.002</td> <td>    0.068</td> <td>    0.317</td>\n",
       "</tr>\n",
       "<tr>\n",
       "  <th>interest_eco_friendly</th>           <td>    0.1333</td> <td>    0.035</td> <td>    3.832</td> <td> 0.000</td> <td>    0.065</td> <td>    0.202</td>\n",
       "</tr>\n",
       "<tr>\n",
       "  <th>interest_none</th>                   <td>    0.1328</td> <td>    0.029</td> <td>    4.598</td> <td> 0.000</td> <td>    0.076</td> <td>    0.189</td>\n",
       "</tr>\n",
       "<tr>\n",
       "  <th>interest_retro</th>                  <td>   -0.0364</td> <td>    0.057</td> <td>   -0.634</td> <td> 0.526</td> <td>   -0.149</td> <td>    0.076</td>\n",
       "</tr>\n",
       "<tr>\n",
       "  <th>interest_technology</th>             <td>    0.0962</td> <td>    0.028</td> <td>    3.462</td> <td> 0.001</td> <td>    0.042</td> <td>    0.151</td>\n",
       "</tr>\n",
       "<tr>\n",
       "  <th>interest_variety</th>                <td>    0.0310</td> <td>    0.025</td> <td>    1.224</td> <td> 0.221</td> <td>   -0.019</td> <td>    0.081</td>\n",
       "</tr>\n",
       "<tr>\n",
       "  <th>personality_conformist</th>          <td>    0.1971</td> <td>    0.045</td> <td>    4.372</td> <td> 0.000</td> <td>    0.109</td> <td>    0.286</td>\n",
       "</tr>\n",
       "<tr>\n",
       "  <th>personality_hard_worker</th>         <td>    0.0193</td> <td>    0.027</td> <td>    0.707</td> <td> 0.480</td> <td>   -0.034</td> <td>    0.073</td>\n",
       "</tr>\n",
       "<tr>\n",
       "  <th>personality_hunter_ostentatious</th> <td>    0.0966</td> <td>    0.045</td> <td>    2.158</td> <td> 0.031</td> <td>    0.009</td> <td>    0.185</td>\n",
       "</tr>\n",
       "<tr>\n",
       "  <th>personality_thrifty_protector</th>   <td>    0.0439</td> <td>    0.026</td> <td>    1.686</td> <td> 0.092</td> <td>   -0.007</td> <td>    0.095</td>\n",
       "</tr>\n",
       "<tr>\n",
       "  <th>religion_catholic</th>               <td>    0.0575</td> <td>    0.045</td> <td>    1.288</td> <td> 0.198</td> <td>   -0.030</td> <td>    0.145</td>\n",
       "</tr>\n",
       "<tr>\n",
       "  <th>religion_christian</th>              <td>   -0.0388</td> <td>    0.060</td> <td>   -0.642</td> <td> 0.521</td> <td>   -0.157</td> <td>    0.080</td>\n",
       "</tr>\n",
       "<tr>\n",
       "  <th>religion_jewish</th>                 <td>    0.2794</td> <td>    0.116</td> <td>    2.405</td> <td> 0.016</td> <td>    0.051</td> <td>    0.507</td>\n",
       "</tr>\n",
       "<tr>\n",
       "  <th>religion_mormon</th>                 <td>    0.0384</td> <td>    0.151</td> <td>    0.255</td> <td> 0.799</td> <td>   -0.257</td> <td>    0.334</td>\n",
       "</tr>\n",
       "<tr>\n",
       "  <th>religion_none</th>                   <td>    0.0204</td> <td>    0.053</td> <td>    0.385</td> <td> 0.700</td> <td>   -0.083</td> <td>    0.124</td>\n",
       "</tr>\n",
       "<tr>\n",
       "  <th>activity_none</th>                   <td>    0.2681</td> <td>    0.106</td> <td>    2.531</td> <td> 0.012</td> <td>    0.060</td> <td>    0.476</td>\n",
       "</tr>\n",
       "<tr>\n",
       "  <th>activity_professional</th>           <td>    0.2063</td> <td>    0.068</td> <td>    3.050</td> <td> 0.002</td> <td>    0.074</td> <td>    0.339</td>\n",
       "</tr>\n",
       "<tr>\n",
       "  <th>activity_student</th>                <td>    0.1586</td> <td>    0.056</td> <td>    2.847</td> <td> 0.005</td> <td>    0.049</td> <td>    0.268</td>\n",
       "</tr>\n",
       "<tr>\n",
       "  <th>activity_unemployed</th>             <td>   -0.5582</td> <td>    0.160</td> <td>   -3.485</td> <td> 0.001</td> <td>   -0.873</td> <td>   -0.244</td>\n",
       "</tr>\n",
       "<tr>\n",
       "  <th>activity_working_class</th>          <td>    0.2821</td> <td>    0.165</td> <td>    1.709</td> <td> 0.088</td> <td>   -0.042</td> <td>    0.606</td>\n",
       "</tr>\n",
       "<tr>\n",
       "  <th>color_black</th>                     <td>    0.1044</td> <td>    0.031</td> <td>    3.343</td> <td> 0.001</td> <td>    0.043</td> <td>    0.166</td>\n",
       "</tr>\n",
       "<tr>\n",
       "  <th>color_blue</th>                      <td>    0.0871</td> <td>    0.024</td> <td>    3.614</td> <td> 0.000</td> <td>    0.040</td> <td>    0.134</td>\n",
       "</tr>\n",
       "<tr>\n",
       "  <th>color_green</th>                     <td>   -0.0625</td> <td>    0.035</td> <td>   -1.761</td> <td> 0.079</td> <td>   -0.132</td> <td>    0.007</td>\n",
       "</tr>\n",
       "<tr>\n",
       "  <th>color_orange</th>                    <td>    0.1198</td> <td>    0.082</td> <td>    1.464</td> <td> 0.144</td> <td>   -0.041</td> <td>    0.281</td>\n",
       "</tr>\n",
       "<tr>\n",
       "  <th>color_purple</th>                    <td>   -0.0974</td> <td>    0.041</td> <td>   -2.375</td> <td> 0.018</td> <td>   -0.178</td> <td>   -0.017</td>\n",
       "</tr>\n",
       "<tr>\n",
       "  <th>color_red</th>                       <td>    0.1990</td> <td>    0.036</td> <td>    5.588</td> <td> 0.000</td> <td>    0.129</td> <td>    0.269</td>\n",
       "</tr>\n",
       "<tr>\n",
       "  <th>color_white</th>                     <td>    0.0049</td> <td>    0.043</td> <td>    0.113</td> <td> 0.910</td> <td>   -0.080</td> <td>    0.090</td>\n",
       "</tr>\n",
       "<tr>\n",
       "  <th>color_yellow</th>                    <td>    0.0016</td> <td>    0.049</td> <td>    0.033</td> <td> 0.974</td> <td>   -0.094</td> <td>    0.098</td>\n",
       "</tr>\n",
       "<tr>\n",
       "  <th>budget_low</th>                      <td>    0.2002</td> <td>    0.030</td> <td>    6.633</td> <td> 0.000</td> <td>    0.141</td> <td>    0.259</td>\n",
       "</tr>\n",
       "<tr>\n",
       "  <th>budget_medium</th>                   <td>    0.1567</td> <td>    0.030</td> <td>    5.216</td> <td> 0.000</td> <td>    0.098</td> <td>    0.216</td>\n",
       "</tr>\n",
       "<tr>\n",
       "  <th>age</th>                             <td>    0.0007</td> <td>    0.001</td> <td>    0.760</td> <td> 0.447</td> <td>   -0.001</td> <td>    0.002</td>\n",
       "</tr>\n",
       "<tr>\n",
       "  <th>weight</th>                          <td>   -0.0017</td> <td>    0.001</td> <td>   -1.950</td> <td> 0.052</td> <td>   -0.003</td> <td>  1.1e-05</td>\n",
       "</tr>\n",
       "</table>\n",
       "<table class=\"simpletable\">\n",
       "<tr>\n",
       "  <th>Omnibus:</th>       <td>37.979</td> <th>  Durbin-Watson:     </th> <td>   2.025</td>\n",
       "</tr>\n",
       "<tr>\n",
       "  <th>Prob(Omnibus):</th> <td> 0.000</td> <th>  Jarque-Bera (JB):  </th> <td>  42.090</td>\n",
       "</tr>\n",
       "<tr>\n",
       "  <th>Skew:</th>          <td>-0.532</td> <th>  Prob(JB):          </th> <td>7.25e-10</td>\n",
       "</tr>\n",
       "<tr>\n",
       "  <th>Kurtosis:</th>      <td> 2.836</td> <th>  Cond. No.          </th> <td>1.11e+16</td>\n",
       "</tr>\n",
       "</table><br/><br/>Warnings:<br/>[1] Standard Errors assume that the covariance matrix of the errors is correctly specified.<br/>[2] The smallest eigenvalue is 4.33e-26. This might indicate that there are<br/>strong multicollinearity problems or that the design matrix is singular."
      ],
      "text/plain": [
       "<class 'statsmodels.iolib.summary.Summary'>\n",
       "\"\"\"\n",
       "                            OLS Regression Results                            \n",
       "==============================================================================\n",
       "Dep. Variable:                 rating   R-squared:                       0.308\n",
       "Model:                            OLS   Adj. R-squared:                  0.238\n",
       "Method:                 Least Squares   F-statistic:                     4.393\n",
       "Date:                Mon, 21 Sep 2020   Prob (F-statistic):           6.61e-28\n",
       "Time:                        08:26:31   Log-Likelihood:                -5.8133\n",
       "No. Observations:                 870   AIC:                             173.6\n",
       "Df Residuals:                     789   BIC:                             559.9\n",
       "Df Model:                          80                                         \n",
       "Covariance Type:            nonrobust                                         \n",
       "===================================================================================================\n",
       "                                      coef    std err          t      P>|t|      [0.025      0.975]\n",
       "---------------------------------------------------------------------------------------------------\n",
       "Rpayment_american_express           0.0676      0.029      2.322      0.020       0.010       0.125\n",
       "Rpayment_bank_debit_cards           0.0833      0.044      1.900      0.058      -0.003       0.169\n",
       "Rpayment_carte_blanche              0.0663      0.128      0.519      0.604      -0.184       0.317\n",
       "Rpayment_cash                      -0.0307      0.040     -0.775      0.439      -0.109       0.047\n",
       "Rpayment_checks                     0.1974      0.176      1.121      0.263      -0.148       0.543\n",
       "Rpayment_diners_club            -9.659e-14   9.25e-14     -1.044      0.297   -2.78e-13     8.5e-14\n",
       "Rpayment_discover                   0.3716      0.188      1.976      0.048       0.003       0.741\n",
       "Rpayment_gift_certificates      -6.075e-14   4.98e-14     -1.221      0.223   -1.58e-13    3.69e-14\n",
       "Rpayment_japan_credit_bureau    -2.651e-14    3.9e-14     -0.680      0.497   -1.03e-13       5e-14\n",
       "Rpayment_mastercard_eurocard        0.0841      0.062      1.359      0.175      -0.037       0.206\n",
       "Rpayment_visa                      -0.0681      0.062     -1.101      0.271      -0.190       0.053\n",
       "Rcuisine_american                  -0.0687      0.065     -1.061      0.289      -0.196       0.058\n",
       "Rcuisine_bar                       -0.0362      0.034     -1.063      0.288      -0.103       0.031\n",
       "Rcuisine_cafe_coffee_shop           0.1135      0.092      1.236      0.217      -0.067       0.294\n",
       "Rcuisine_dutch_belgian           7.857e-15   3.04e-14      0.259      0.796   -5.18e-14    6.75e-14\n",
       "Rcuisine_french                 -5.091e-15   8.43e-15     -0.604      0.546   -2.16e-14    1.15e-14\n",
       "Rcuisine_greek                   6.347e-14   5.85e-14      1.084      0.279   -5.14e-14    1.78e-13\n",
       "Rcuisine_international              0.0503      0.075      0.675      0.500      -0.096       0.197\n",
       "Rcuisine_italian                   -0.1090      0.068     -1.607      0.108      -0.242       0.024\n",
       "Rcuisine_mexican                    0.0018      0.041      0.045      0.964      -0.078       0.082\n",
       "Rcuisine_others                    -0.0028      0.030     -0.092      0.927      -0.062       0.056\n",
       "Rcuisine_pizzeria                  -0.0253      0.047     -0.533      0.594      -0.118       0.068\n",
       "mon_tue_wed_thu_fri                -0.0013      0.003     -0.414      0.679      -0.008       0.005\n",
       "sat                                 0.0022      0.004      0.536      0.592      -0.006       0.010\n",
       "sun                                 0.0007      0.002      0.299      0.765      -0.004       0.006\n",
       "parking_lot_fee                  1.189e-15   9.15e-16      1.299      0.194   -6.07e-16    2.98e-15\n",
       "parking_lot_none                    0.1372      0.029      4.799      0.000       0.081       0.193\n",
       "parking_lot_public                  0.1359      0.034      4.005      0.000       0.069       0.203\n",
       "parking_lot_street              -1.595e-15   3.89e-16     -4.107      0.000   -2.36e-15   -8.33e-16\n",
       "parking_lot_valet parking          -0.0550      0.072     -0.763      0.446      -0.196       0.086\n",
       "parking_lot_validated parking     6.93e-16   3.51e-16      1.973      0.049    3.49e-18    1.38e-15\n",
       "parking_lot_yes                     0.1387      0.028      4.911      0.000       0.083       0.194\n",
       "Ucuisine_american                  -0.0369      0.051     -0.729      0.466      -0.136       0.062\n",
       "Ucuisine_bar                       -0.0495      0.102     -0.486      0.627      -0.249       0.150\n",
       "Ucuisine_cafe_coffee_shop           0.4281      0.184      2.331      0.020       0.068       0.789\n",
       "Ucuisine_dutch_belgian              0.0259      0.389      0.067      0.947      -0.737       0.789\n",
       "Ucuisine_french                     0.0259      0.389      0.067      0.947      -0.737       0.789\n",
       "Ucuisine_greek                      0.0259      0.389      0.067      0.947      -0.737       0.789\n",
       "Ucuisine_international              0.0259      0.389      0.067      0.947      -0.737       0.789\n",
       "Ucuisine_italian                   -0.2564      0.081     -3.184      0.002      -0.414      -0.098\n",
       "Ucuisine_mexican                   -0.0671      0.032     -2.067      0.039      -0.131      -0.003\n",
       "Ucuisine_others                    -0.0002      0.018     -0.008      0.993      -0.035       0.035\n",
       "Ucuisine_pizzeria                  -0.1752      0.063     -2.780      0.006      -0.299      -0.051\n",
       "Upayment_american_express           0.0489      0.125      0.390      0.696      -0.197       0.295\n",
       "Upayment_bank_debit_cards          -0.0265      0.051     -0.524      0.601      -0.126       0.073\n",
       "Upayment_cash                      -0.1488      0.131     -1.139      0.255      -0.405       0.108\n",
       "Upayment_mastercard_eurocard       -0.2253      0.093     -2.429      0.015      -0.407      -0.043\n",
       "Upayment_visa                       0.0069      0.047      0.148      0.883      -0.085       0.099\n",
       "smoker_false                        0.1609      0.043      3.735      0.000       0.076       0.245\n",
       "smoker_none                         0.0604      0.084      0.716      0.474      -0.105       0.226\n",
       "smoker_true                         0.1356      0.048      2.848      0.005       0.042       0.229\n",
       "drink_level_abstemious              0.1225      0.024      5.118      0.000       0.076       0.170\n",
       "drink_level_casual_drinker          0.0424      0.024      1.759      0.079      -0.005       0.090\n",
       "drink_level_social_drinker          0.1920      0.027      7.010      0.000       0.138       0.246\n",
       "dress_preference_elegant            0.1774      0.078      2.264      0.024       0.024       0.331\n",
       "dress_preference_formal             0.0951      0.032      2.931      0.003       0.031       0.159\n",
       "dress_preference_informal           0.0105      0.036      0.294      0.769      -0.060       0.080\n",
       "dress_preference_no_preference      0.0074      0.036      0.208      0.835      -0.062       0.077\n",
       "dress_preference_none               0.0665      0.080      0.832      0.406      -0.091       0.224\n",
       "ambience_family                     0.0288      0.032      0.914      0.361      -0.033       0.091\n",
       "ambience_friends                   -0.0330      0.033     -1.004      0.316      -0.098       0.032\n",
       "ambience_none                       0.2995      0.072      4.143      0.000       0.158       0.441\n",
       "ambience_solitary                   0.0616      0.040      1.522      0.128      -0.018       0.141\n",
       "transport_car_owner                 0.0982      0.033      2.962      0.003       0.033       0.163\n",
       "transport_none                      0.2261      0.077      2.940      0.003       0.075       0.377\n",
       "transport_on_foot                   0.0393      0.039      1.013      0.311      -0.037       0.116\n",
       "transport_public                   -0.0068      0.032     -0.210      0.834      -0.070       0.056\n",
       "marital_status_married              0.2617      0.094      2.792      0.005       0.078       0.446\n",
       "marital_status_none                -0.4845      0.204     -2.377      0.018      -0.885      -0.084\n",
       "marital_status_single               0.0314      0.066      0.474      0.636      -0.099       0.162\n",
       "marital_status_widow                0.5483      0.142      3.859      0.000       0.269       0.827\n",
       "hijos_dependent                    -0.0680      0.098     -0.697      0.486      -0.260       0.124\n",
       "hijos_independent                   0.2398      0.050      4.829      0.000       0.142       0.337\n",
       "hijos_kids                         -0.0072      0.068     -0.106      0.916      -0.141       0.127\n",
       "hijos_none                          0.1923      0.063      3.041      0.002       0.068       0.317\n",
       "interest_eco_friendly               0.1333      0.035      3.832      0.000       0.065       0.202\n",
       "interest_none                       0.1328      0.029      4.598      0.000       0.076       0.189\n",
       "interest_retro                     -0.0364      0.057     -0.634      0.526      -0.149       0.076\n",
       "interest_technology                 0.0962      0.028      3.462      0.001       0.042       0.151\n",
       "interest_variety                    0.0310      0.025      1.224      0.221      -0.019       0.081\n",
       "personality_conformist              0.1971      0.045      4.372      0.000       0.109       0.286\n",
       "personality_hard_worker             0.0193      0.027      0.707      0.480      -0.034       0.073\n",
       "personality_hunter_ostentatious     0.0966      0.045      2.158      0.031       0.009       0.185\n",
       "personality_thrifty_protector       0.0439      0.026      1.686      0.092      -0.007       0.095\n",
       "religion_catholic                   0.0575      0.045      1.288      0.198      -0.030       0.145\n",
       "religion_christian                 -0.0388      0.060     -0.642      0.521      -0.157       0.080\n",
       "religion_jewish                     0.2794      0.116      2.405      0.016       0.051       0.507\n",
       "religion_mormon                     0.0384      0.151      0.255      0.799      -0.257       0.334\n",
       "religion_none                       0.0204      0.053      0.385      0.700      -0.083       0.124\n",
       "activity_none                       0.2681      0.106      2.531      0.012       0.060       0.476\n",
       "activity_professional               0.2063      0.068      3.050      0.002       0.074       0.339\n",
       "activity_student                    0.1586      0.056      2.847      0.005       0.049       0.268\n",
       "activity_unemployed                -0.5582      0.160     -3.485      0.001      -0.873      -0.244\n",
       "activity_working_class              0.2821      0.165      1.709      0.088      -0.042       0.606\n",
       "color_black                         0.1044      0.031      3.343      0.001       0.043       0.166\n",
       "color_blue                          0.0871      0.024      3.614      0.000       0.040       0.134\n",
       "color_green                        -0.0625      0.035     -1.761      0.079      -0.132       0.007\n",
       "color_orange                        0.1198      0.082      1.464      0.144      -0.041       0.281\n",
       "color_purple                       -0.0974      0.041     -2.375      0.018      -0.178      -0.017\n",
       "color_red                           0.1990      0.036      5.588      0.000       0.129       0.269\n",
       "color_white                         0.0049      0.043      0.113      0.910      -0.080       0.090\n",
       "color_yellow                        0.0016      0.049      0.033      0.974      -0.094       0.098\n",
       "budget_low                          0.2002      0.030      6.633      0.000       0.141       0.259\n",
       "budget_medium                       0.1567      0.030      5.216      0.000       0.098       0.216\n",
       "age                                 0.0007      0.001      0.760      0.447      -0.001       0.002\n",
       "weight                             -0.0017      0.001     -1.950      0.052      -0.003     1.1e-05\n",
       "==============================================================================\n",
       "Omnibus:                       37.979   Durbin-Watson:                   2.025\n",
       "Prob(Omnibus):                  0.000   Jarque-Bera (JB):               42.090\n",
       "Skew:                          -0.532   Prob(JB):                     7.25e-10\n",
       "Kurtosis:                       2.836   Cond. No.                     1.11e+16\n",
       "==============================================================================\n",
       "\n",
       "Warnings:\n",
       "[1] Standard Errors assume that the covariance matrix of the errors is correctly specified.\n",
       "[2] The smallest eigenvalue is 4.33e-26. This might indicate that there are\n",
       "strong multicollinearity problems or that the design matrix is singular.\n",
       "\"\"\""
      ]
     },
     "execution_count": 46,
     "metadata": {},
     "output_type": "execute_result"
    }
   ],
   "source": [
    "res = sm.OLS(y_vtrain_cont, X_vtrain).fit()\n",
    "res.summary()"
   ]
  },
  {
   "cell_type": "code",
   "execution_count": 47,
   "metadata": {
    "execution": {
     "iopub.execute_input": "2020-09-21T08:26:31.333476Z",
     "iopub.status.busy": "2020-09-21T08:26:31.332744Z",
     "iopub.status.idle": "2020-09-21T08:26:31.342002Z",
     "shell.execute_reply": "2020-09-21T08:26:31.342466Z"
    },
    "papermill": {
     "duration": 0.079706,
     "end_time": "2020-09-21T08:26:31.342618",
     "exception": false,
     "start_time": "2020-09-21T08:26:31.262912",
     "status": "completed"
    },
    "tags": []
   },
   "outputs": [
    {
     "name": "stdout",
     "output_type": "stream",
     "text": [
      "Training Accuracy and Error\n",
      "---------------------------\n",
      "Accuracy :: 0.15\n",
      "Error :: 0.60\n"
     ]
    }
   ],
   "source": [
    "y_train_pred = list(map(math.floor, np.e**res.predict(X_vtrain)))\n",
    "print('Training Accuracy and Error')\n",
    "print('---------------------------')\n",
    "print(f'Accuracy :: {accuracy_score(y_vtrain, y_train_pred):.2f}\\nError :: {percentage_error(y_vtrain, y_train_pred):.2f}')"
   ]
  },
  {
   "cell_type": "code",
   "execution_count": 48,
   "metadata": {
    "execution": {
     "iopub.execute_input": "2020-09-21T08:26:31.488927Z",
     "iopub.status.busy": "2020-09-21T08:26:31.488001Z",
     "iopub.status.idle": "2020-09-21T08:26:31.495525Z",
     "shell.execute_reply": "2020-09-21T08:26:31.494908Z"
    },
    "papermill": {
     "duration": 0.086637,
     "end_time": "2020-09-21T08:26:31.495702",
     "exception": false,
     "start_time": "2020-09-21T08:26:31.409065",
     "status": "completed"
    },
    "tags": []
   },
   "outputs": [
    {
     "name": "stdout",
     "output_type": "stream",
     "text": [
      "Test Accuracy and Error\n",
      "------------------------\n",
      "Accuracy :: 0.20\n",
      "Error :: 0.56\n"
     ]
    }
   ],
   "source": [
    "print('Test Accuracy and Error')\n",
    "print('------------------------')\n",
    "y_pred = list(map(math.floor, np.e**res.predict(X_vtest)))\n",
    "print(f'Accuracy :: {accuracy_score(y_vtest, y_pred):.2f}\\nError :: {percentage_error(y_vtest, y_pred):.2f}')"
   ]
  },
  {
   "cell_type": "markdown",
   "metadata": {
    "papermill": {
     "duration": 0.065528,
     "end_time": "2020-09-21T08:26:31.627130",
     "exception": false,
     "start_time": "2020-09-21T08:26:31.561602",
     "status": "completed"
    },
    "tags": []
   },
   "source": [
    "We can see that the linear model didn't have a very good adjusted R2. But it's still acceptable, given the sparse nature.\n",
    "\n",
    "When the accuracy score when the scores were converted back to the classes, the manual % error indicates that in the misclassified ones, it on an average made a mistake of saying +-1 of the actual rating.\n",
    "\n",
    "On the test data, the error is 0.55 which means that the model mostly made much mistake to give the ratings ~(+-1 of the actual rating)"
   ]
  },
  {
   "cell_type": "markdown",
   "metadata": {
    "papermill": {
     "duration": 0.066559,
     "end_time": "2020-09-21T08:26:31.759336",
     "exception": false,
     "start_time": "2020-09-21T08:26:31.692777",
     "status": "completed"
    },
    "tags": []
   },
   "source": [
    "### 4.2 Decision Tree Regression Model"
   ]
  },
  {
   "cell_type": "code",
   "execution_count": 49,
   "metadata": {
    "execution": {
     "iopub.execute_input": "2020-09-21T08:26:31.894339Z",
     "iopub.status.busy": "2020-09-21T08:26:31.893416Z",
     "iopub.status.idle": "2020-09-21T08:26:31.910990Z",
     "shell.execute_reply": "2020-09-21T08:26:31.911376Z"
    },
    "papermill": {
     "duration": 0.086304,
     "end_time": "2020-09-21T08:26:31.911526",
     "exception": false,
     "start_time": "2020-09-21T08:26:31.825222",
     "status": "completed"
    },
    "tags": []
   },
   "outputs": [],
   "source": [
    "dt_res = DecisionTreeRegressor().fit(X_vtrain, y_vtrain_cont)"
   ]
  },
  {
   "cell_type": "code",
   "execution_count": 50,
   "metadata": {
    "execution": {
     "iopub.execute_input": "2020-09-21T08:26:32.046992Z",
     "iopub.status.busy": "2020-09-21T08:26:32.045947Z",
     "iopub.status.idle": "2020-09-21T08:26:32.058507Z",
     "shell.execute_reply": "2020-09-21T08:26:32.057969Z"
    },
    "papermill": {
     "duration": 0.082224,
     "end_time": "2020-09-21T08:26:32.058643",
     "exception": false,
     "start_time": "2020-09-21T08:26:31.976419",
     "status": "completed"
    },
    "tags": []
   },
   "outputs": [
    {
     "name": "stdout",
     "output_type": "stream",
     "text": [
      "Training Accuracy and Error\n",
      "---------------------------\n",
      "Accuracy :: 0.00\n",
      "Error :: 0.51\n"
     ]
    }
   ],
   "source": [
    "y_train_pred = list(map(math.floor, np.e**dt_res.predict(X_vtrain)))\n",
    "print('Training Accuracy and Error')\n",
    "print('---------------------------')\n",
    "print(f'Accuracy :: {accuracy_score(y_vtrain, y_train_pred):.2f}\\nError :: {percentage_error(y_vtrain, y_train_pred):.2f}')"
   ]
  },
  {
   "cell_type": "code",
   "execution_count": 51,
   "metadata": {
    "execution": {
     "iopub.execute_input": "2020-09-21T08:26:32.206847Z",
     "iopub.status.busy": "2020-09-21T08:26:32.205940Z",
     "iopub.status.idle": "2020-09-21T08:26:32.213456Z",
     "shell.execute_reply": "2020-09-21T08:26:32.212824Z"
    },
    "papermill": {
     "duration": 0.083771,
     "end_time": "2020-09-21T08:26:32.213614",
     "exception": false,
     "start_time": "2020-09-21T08:26:32.129843",
     "status": "completed"
    },
    "tags": []
   },
   "outputs": [
    {
     "name": "stdout",
     "output_type": "stream",
     "text": [
      "Test Accuracy and Error\n",
      "------------------------\n",
      "Accuracy :: 0.22\n",
      "Error :: 0.51\n"
     ]
    }
   ],
   "source": [
    "print('Test Accuracy and Error')\n",
    "print('------------------------')\n",
    "y_pred = list(map(math.floor, np.e**dt_res.predict(X_vtest)))\n",
    "print(f'Accuracy :: {accuracy_score(y_vtest, y_pred):.2f}\\nError :: {percentage_error(y_vtest, y_pred):.2f}')"
   ]
  },
  {
   "cell_type": "markdown",
   "metadata": {
    "papermill": {
     "duration": 0.065976,
     "end_time": "2020-09-21T08:26:32.346887",
     "exception": false,
     "start_time": "2020-09-21T08:26:32.280911",
     "status": "completed"
    },
    "tags": []
   },
   "source": [
    "## 5. Classification Models\n",
    "### 5.1 Logistic regression"
   ]
  },
  {
   "cell_type": "code",
   "execution_count": 52,
   "metadata": {
    "execution": {
     "iopub.execute_input": "2020-09-21T08:26:32.492602Z",
     "iopub.status.busy": "2020-09-21T08:26:32.491727Z",
     "iopub.status.idle": "2020-09-21T08:26:34.728060Z",
     "shell.execute_reply": "2020-09-21T08:26:34.726894Z"
    },
    "papermill": {
     "duration": 2.314715,
     "end_time": "2020-09-21T08:26:34.728229",
     "exception": false,
     "start_time": "2020-09-21T08:26:32.413514",
     "status": "completed"
    },
    "tags": []
   },
   "outputs": [
    {
     "data": {
      "text/plain": [
       "LogisticRegression(max_iter=5000)"
      ]
     },
     "execution_count": 52,
     "metadata": {},
     "output_type": "execute_result"
    }
   ],
   "source": [
    "lr = LogisticRegression(solver='lbfgs', multi_class='auto', max_iter=5000)\n",
    "lr.fit(X_vtrain, y_vtrain)"
   ]
  },
  {
   "cell_type": "code",
   "execution_count": 53,
   "metadata": {
    "execution": {
     "iopub.execute_input": "2020-09-21T08:26:34.946665Z",
     "iopub.status.busy": "2020-09-21T08:26:34.945713Z",
     "iopub.status.idle": "2020-09-21T08:26:34.961082Z",
     "shell.execute_reply": "2020-09-21T08:26:34.960168Z"
    },
    "papermill": {
     "duration": 0.121467,
     "end_time": "2020-09-21T08:26:34.961292",
     "exception": false,
     "start_time": "2020-09-21T08:26:34.839825",
     "status": "completed"
    },
    "tags": []
   },
   "outputs": [
    {
     "name": "stdout",
     "output_type": "stream",
     "text": [
      "Training Accuracy and Error\n",
      "---------------------------\n",
      "Accuracy :: 0.63\n",
      "Error :: 0.23\n"
     ]
    }
   ],
   "source": [
    "y_train_pred = list(map(math.floor, lr.predict(X_vtrain)))\n",
    "print('Training Accuracy and Error')\n",
    "print('---------------------------')\n",
    "print(f'Accuracy :: {accuracy_score(y_vtrain, y_train_pred):.2f}\\nError :: {percentage_error(y_vtrain, y_train_pred):.2f}')"
   ]
  },
  {
   "cell_type": "code",
   "execution_count": 54,
   "metadata": {
    "execution": {
     "iopub.execute_input": "2020-09-21T08:26:35.209419Z",
     "iopub.status.busy": "2020-09-21T08:26:35.208673Z",
     "iopub.status.idle": "2020-09-21T08:26:35.218184Z",
     "shell.execute_reply": "2020-09-21T08:26:35.217613Z"
    },
    "papermill": {
     "duration": 0.133846,
     "end_time": "2020-09-21T08:26:35.218305",
     "exception": false,
     "start_time": "2020-09-21T08:26:35.084459",
     "status": "completed"
    },
    "tags": []
   },
   "outputs": [
    {
     "name": "stdout",
     "output_type": "stream",
     "text": [
      "Test Accuracy and Error\n",
      "------------------------\n",
      "Accuracy :: 0.53\n",
      "Error :: 0.29\n"
     ]
    }
   ],
   "source": [
    "print('Test Accuracy and Error')\n",
    "print('------------------------')\n",
    "y_pred = list(map(math.floor, lr.predict(X_vtest)))\n",
    "print(f'Accuracy :: {accuracy_score(y_vtest, y_pred):.2f}\\nError :: {percentage_error(y_vtest, y_pred):.2f}')"
   ]
  },
  {
   "cell_type": "markdown",
   "metadata": {
    "papermill": {
     "duration": 0.076452,
     "end_time": "2020-09-21T08:26:35.364341",
     "exception": false,
     "start_time": "2020-09-21T08:26:35.287889",
     "status": "completed"
    },
    "tags": []
   },
   "source": [
    "### 5.2 Naive Bayes"
   ]
  },
  {
   "cell_type": "code",
   "execution_count": 55,
   "metadata": {
    "execution": {
     "iopub.execute_input": "2020-09-21T08:26:35.506332Z",
     "iopub.status.busy": "2020-09-21T08:26:35.505806Z",
     "iopub.status.idle": "2020-09-21T08:26:35.512240Z",
     "shell.execute_reply": "2020-09-21T08:26:35.511787Z"
    },
    "papermill": {
     "duration": 0.080436,
     "end_time": "2020-09-21T08:26:35.512347",
     "exception": false,
     "start_time": "2020-09-21T08:26:35.431911",
     "status": "completed"
    },
    "tags": []
   },
   "outputs": [
    {
     "data": {
      "text/plain": [
       "MultinomialNB()"
      ]
     },
     "execution_count": 55,
     "metadata": {},
     "output_type": "execute_result"
    }
   ],
   "source": [
    "nb = MultinomialNB()\n",
    "nb.fit(X_vtrain, y_vtrain)"
   ]
  },
  {
   "cell_type": "code",
   "execution_count": 56,
   "metadata": {
    "execution": {
     "iopub.execute_input": "2020-09-21T08:26:35.655723Z",
     "iopub.status.busy": "2020-09-21T08:26:35.655085Z",
     "iopub.status.idle": "2020-09-21T08:26:35.666348Z",
     "shell.execute_reply": "2020-09-21T08:26:35.665871Z"
    },
    "papermill": {
     "duration": 0.086616,
     "end_time": "2020-09-21T08:26:35.666461",
     "exception": false,
     "start_time": "2020-09-21T08:26:35.579845",
     "status": "completed"
    },
    "tags": []
   },
   "outputs": [
    {
     "name": "stdout",
     "output_type": "stream",
     "text": [
      "Training Accuracy and Error\n",
      "---------------------------\n",
      "Accuracy :: 0.48\n",
      "Error :: 0.31\n"
     ]
    }
   ],
   "source": [
    "y_train_pred = list(map(math.floor, nb.predict(X_vtrain)))\n",
    "print('Training Accuracy and Error')\n",
    "print('---------------------------')\n",
    "print(f'Accuracy :: {accuracy_score(y_vtrain, y_train_pred):.2f}\\nError :: {percentage_error(y_vtrain, y_train_pred):.2f}')"
   ]
  },
  {
   "cell_type": "code",
   "execution_count": 57,
   "metadata": {
    "execution": {
     "iopub.execute_input": "2020-09-21T08:26:35.807263Z",
     "iopub.status.busy": "2020-09-21T08:26:35.806326Z",
     "iopub.status.idle": "2020-09-21T08:26:35.821000Z",
     "shell.execute_reply": "2020-09-21T08:26:35.820445Z"
    },
    "papermill": {
     "duration": 0.086815,
     "end_time": "2020-09-21T08:26:35.821150",
     "exception": false,
     "start_time": "2020-09-21T08:26:35.734335",
     "status": "completed"
    },
    "tags": []
   },
   "outputs": [
    {
     "name": "stdout",
     "output_type": "stream",
     "text": [
      "Test Accuracy and Error\n",
      "------------------------\n",
      "Accuracy :: 0.52\n",
      "Error :: 0.29\n"
     ]
    }
   ],
   "source": [
    "print('Test Accuracy and Error')\n",
    "print('------------------------')\n",
    "y_pred = list(map(math.floor, nb.predict(X_vtest)))\n",
    "print(f'Accuracy :: {accuracy_score(y_vtest, y_pred):.2f}\\nError :: {percentage_error(y_vtest, y_pred):.2f}')"
   ]
  },
  {
   "cell_type": "markdown",
   "metadata": {
    "papermill": {
     "duration": 0.068957,
     "end_time": "2020-09-21T08:26:35.961122",
     "exception": false,
     "start_time": "2020-09-21T08:26:35.892165",
     "status": "completed"
    },
    "tags": []
   },
   "source": [
    "### 5.3 Random Forest"
   ]
  },
  {
   "cell_type": "code",
   "execution_count": 58,
   "metadata": {
    "execution": {
     "iopub.execute_input": "2020-09-21T08:26:36.105663Z",
     "iopub.status.busy": "2020-09-21T08:26:36.104749Z",
     "iopub.status.idle": "2020-09-21T08:26:36.240143Z",
     "shell.execute_reply": "2020-09-21T08:26:36.240529Z"
    },
    "papermill": {
     "duration": 0.207164,
     "end_time": "2020-09-21T08:26:36.240698",
     "exception": false,
     "start_time": "2020-09-21T08:26:36.033534",
     "status": "completed"
    },
    "tags": []
   },
   "outputs": [
    {
     "data": {
      "text/plain": [
       "RandomForestClassifier(n_estimators=50)"
      ]
     },
     "execution_count": 58,
     "metadata": {},
     "output_type": "execute_result"
    }
   ],
   "source": [
    "rf = RandomForestClassifier(n_estimators=50)\n",
    "rf.fit(X_vtrain, y_vtrain)"
   ]
  },
  {
   "cell_type": "code",
   "execution_count": 59,
   "metadata": {
    "execution": {
     "iopub.execute_input": "2020-09-21T08:26:36.388705Z",
     "iopub.status.busy": "2020-09-21T08:26:36.387806Z",
     "iopub.status.idle": "2020-09-21T08:26:36.408712Z",
     "shell.execute_reply": "2020-09-21T08:26:36.409150Z"
    },
    "papermill": {
     "duration": 0.098053,
     "end_time": "2020-09-21T08:26:36.409309",
     "exception": false,
     "start_time": "2020-09-21T08:26:36.311256",
     "status": "completed"
    },
    "tags": []
   },
   "outputs": [
    {
     "name": "stdout",
     "output_type": "stream",
     "text": [
      "Training Accuracy and Error\n",
      "---------------------------\n",
      "Accuracy :: 0.98\n",
      "Error :: 0.01\n"
     ]
    }
   ],
   "source": [
    "y_train_pred = list(map(math.floor, rf.predict(X_vtrain)))\n",
    "print('Training Accuracy and Error')\n",
    "print('---------------------------')\n",
    "print(f'Accuracy :: {accuracy_score(y_vtrain, y_train_pred):.2f}\\nError :: {percentage_error(y_vtrain, y_train_pred):.2f}')"
   ]
  },
  {
   "cell_type": "code",
   "execution_count": 60,
   "metadata": {
    "execution": {
     "iopub.execute_input": "2020-09-21T08:26:36.557471Z",
     "iopub.status.busy": "2020-09-21T08:26:36.556612Z",
     "iopub.status.idle": "2020-09-21T08:26:36.571015Z",
     "shell.execute_reply": "2020-09-21T08:26:36.571455Z"
    },
    "papermill": {
     "duration": 0.092371,
     "end_time": "2020-09-21T08:26:36.571615",
     "exception": false,
     "start_time": "2020-09-21T08:26:36.479244",
     "status": "completed"
    },
    "tags": []
   },
   "outputs": [
    {
     "name": "stdout",
     "output_type": "stream",
     "text": [
      "Test Accuracy and Error\n",
      "------------------------\n",
      "Accuracy :: 0.58\n",
      "Error :: 0.25\n"
     ]
    }
   ],
   "source": [
    "print('Test Accuracy and Error')\n",
    "print('------------------------')\n",
    "y_pred = list(map(math.floor, rf.predict(X_vtest)))\n",
    "print(f'Accuracy :: {accuracy_score(y_vtest, y_pred):.2f}\\nError :: {percentage_error(y_vtest, y_pred):.2f}')"
   ]
  },
  {
   "cell_type": "markdown",
   "metadata": {
    "papermill": {
     "duration": 0.070019,
     "end_time": "2020-09-21T08:26:36.710702",
     "exception": false,
     "start_time": "2020-09-21T08:26:36.640683",
     "status": "completed"
    },
    "tags": []
   },
   "source": [
    "### 5.4 SVM"
   ]
  },
  {
   "cell_type": "code",
   "execution_count": 61,
   "metadata": {
    "execution": {
     "iopub.execute_input": "2020-09-21T08:26:36.857918Z",
     "iopub.status.busy": "2020-09-21T08:26:36.856991Z",
     "iopub.status.idle": "2020-09-21T08:26:37.034746Z",
     "shell.execute_reply": "2020-09-21T08:26:37.035187Z"
    },
    "papermill": {
     "duration": 0.254932,
     "end_time": "2020-09-21T08:26:37.035348",
     "exception": false,
     "start_time": "2020-09-21T08:26:36.780416",
     "status": "completed"
    },
    "tags": []
   },
   "outputs": [
    {
     "data": {
      "text/plain": [
       "SVC(gamma='auto')"
      ]
     },
     "execution_count": 61,
     "metadata": {},
     "output_type": "execute_result"
    }
   ],
   "source": [
    "svc = SVC(gamma='auto')\n",
    "svc.fit(X_vtrain, y_vtrain)"
   ]
  },
  {
   "cell_type": "code",
   "execution_count": 62,
   "metadata": {
    "execution": {
     "iopub.execute_input": "2020-09-21T08:26:37.184582Z",
     "iopub.status.busy": "2020-09-21T08:26:37.183737Z",
     "iopub.status.idle": "2020-09-21T08:26:37.315898Z",
     "shell.execute_reply": "2020-09-21T08:26:37.315373Z"
    },
    "papermill": {
     "duration": 0.210778,
     "end_time": "2020-09-21T08:26:37.316025",
     "exception": false,
     "start_time": "2020-09-21T08:26:37.105247",
     "status": "completed"
    },
    "tags": []
   },
   "outputs": [
    {
     "name": "stdout",
     "output_type": "stream",
     "text": [
      "Training Accuracy and Error\n",
      "---------------------------\n",
      "Accuracy :: 0.63\n",
      "Error :: 0.23\n"
     ]
    }
   ],
   "source": [
    "y_train_pred = list(map(math.floor, svc.predict(X_vtrain)))\n",
    "print('Training Accuracy and Error')\n",
    "print('---------------------------')\n",
    "print(f'Accuracy :: {accuracy_score(y_vtrain, y_train_pred):.2f}\\nError :: {percentage_error(y_vtrain, y_train_pred):.2f}')"
   ]
  },
  {
   "cell_type": "code",
   "execution_count": 63,
   "metadata": {
    "execution": {
     "iopub.execute_input": "2020-09-21T08:26:37.465309Z",
     "iopub.status.busy": "2020-09-21T08:26:37.464734Z",
     "iopub.status.idle": "2020-09-21T08:26:37.513209Z",
     "shell.execute_reply": "2020-09-21T08:26:37.512764Z"
    },
    "papermill": {
     "duration": 0.126012,
     "end_time": "2020-09-21T08:26:37.513320",
     "exception": false,
     "start_time": "2020-09-21T08:26:37.387308",
     "status": "completed"
    },
    "tags": []
   },
   "outputs": [
    {
     "name": "stdout",
     "output_type": "stream",
     "text": [
      "Test Accuracy and Error\n",
      "------------------------\n",
      "Accuracy :: 0.46\n",
      "Error :: 0.32\n"
     ]
    }
   ],
   "source": [
    "print('Test Accuracy and Error')\n",
    "print('------------------------')\n",
    "y_pred = list(map(math.floor, svc.predict(X_vtest)))\n",
    "print(f'Accuracy :: {accuracy_score(y_vtest, y_pred):.2f}\\nError :: {percentage_error(y_vtest, y_pred):.2f}')"
   ]
  },
  {
   "cell_type": "markdown",
   "metadata": {
    "papermill": {
     "duration": 0.069722,
     "end_time": "2020-09-21T08:26:37.652920",
     "exception": false,
     "start_time": "2020-09-21T08:26:37.583198",
     "status": "completed"
    },
    "tags": []
   },
   "source": [
    "## 6. Comparison of the Models"
   ]
  },
  {
   "cell_type": "code",
   "execution_count": 64,
   "metadata": {
    "execution": {
     "iopub.execute_input": "2020-09-21T08:26:37.803288Z",
     "iopub.status.busy": "2020-09-21T08:26:37.802609Z",
     "iopub.status.idle": "2020-09-21T08:26:37.955522Z",
     "shell.execute_reply": "2020-09-21T08:26:37.955924Z"
    },
    "papermill": {
     "duration": 0.232398,
     "end_time": "2020-09-21T08:26:37.956082",
     "exception": false,
     "start_time": "2020-09-21T08:26:37.723684",
     "status": "completed"
    },
    "tags": []
   },
   "outputs": [
    {
     "data": {
      "image/png": "[encoded data removed]",
      "text/plain": [
       "<Figure size 432x288 with 1 Axes>"
      ]
     },
     "metadata": {
      "needs_background": "light"
     },
     "output_type": "display_data"
    }
   ],
   "source": [
    "# store the metrics\n",
    "evaluataion = {\n",
    "     'Model': {0: 'Linear Regression',\n",
    "               1: 'Decision Tree Regressor',\n",
    "               2: 'Logistic Regression',\n",
    "               3: 'Naive Bayes',\n",
    "               4: 'Random Forest',\n",
    "               5: 'SVM'},\n",
    "     'Testing_Accuracy': {0: 0.21, 1: 0.22, 2: 0.53, 3: 0.52, 4: 0.6, 5: 0.46},\n",
    "     'Testing_Error': {0: 0.55, 1: 0.51, 2: 0.29, 3: 0.29, 4: 0.24, 5: 0.32},\n",
    "     'Training_Accuracy': {0: 0.17, 1: 0.0, 2: 0.63, 3: 0.48, 4: 0.99, 5: 0.63},\n",
    "     'Training_Error': {0: 0.58, 1: 0.51, 2: 0.23, 3: 0.31, 4: 0.01, 5: 0.23},\n",
    "     'Type': {0: 'Regression',\n",
    "              1: 'Regression',\n",
    "              2: 'Classification',\n",
    "              3: 'Classification',\n",
    "              4: 'Classification',\n",
    "              5: 'Classification'}}\n",
    "evaluataion = pd.DataFrame(evaluataion)\n",
    "evaluataion.groupby('Type').mean().plot.bar();"
   ]
  },
  {
   "cell_type": "markdown",
   "metadata": {
    "papermill": {
     "duration": 0.070437,
     "end_time": "2020-09-21T08:26:38.097946",
     "exception": false,
     "start_time": "2020-09-21T08:26:38.027509",
     "status": "completed"
    },
    "tags": []
   },
   "source": [
    "We can see that the Testing Error went down for the classification models on an average by 50% and hence, we would proceed with the classification models."
   ]
  },
  {
   "cell_type": "code",
   "execution_count": 65,
   "metadata": {
    "execution": {
     "iopub.execute_input": "2020-09-21T08:26:38.245647Z",
     "iopub.status.busy": "2020-09-21T08:26:38.245069Z",
     "iopub.status.idle": "2020-09-21T08:26:38.259242Z",
     "shell.execute_reply": "2020-09-21T08:26:38.259742Z"
    },
    "papermill": {
     "duration": 0.087779,
     "end_time": "2020-09-21T08:26:38.259882",
     "exception": false,
     "start_time": "2020-09-21T08:26:38.172103",
     "status": "completed"
    },
    "tags": []
   },
   "outputs": [
    {
     "data": {
      "text/html": [
       "<div>\n",
       "<style scoped>\n",
       "    .dataframe tbody tr th:only-of-type {\n",
       "        vertical-align: middle;\n",
       "    }\n",
       "\n",
       "    .dataframe tbody tr th {\n",
       "        vertical-align: top;\n",
       "    }\n",
       "\n",
       "    .dataframe thead th {\n",
       "        text-align: right;\n",
       "    }\n",
       "</style>\n",
       "<table border=\"1\" class=\"dataframe\">\n",
       "  <thead>\n",
       "    <tr style=\"text-align: right;\">\n",
       "      <th></th>\n",
       "      <th>Model</th>\n",
       "      <th>Testing_Accuracy</th>\n",
       "      <th>Testing_Error</th>\n",
       "      <th>Training_Accuracy</th>\n",
       "      <th>Training_Error</th>\n",
       "      <th>Type</th>\n",
       "    </tr>\n",
       "  </thead>\n",
       "  <tbody>\n",
       "    <tr>\n",
       "      <th>2</th>\n",
       "      <td>Logistic Regression</td>\n",
       "      <td>0.53</td>\n",
       "      <td>0.29</td>\n",
       "      <td>0.63</td>\n",
       "      <td>0.23</td>\n",
       "      <td>Classification</td>\n",
       "    </tr>\n",
       "    <tr>\n",
       "      <th>3</th>\n",
       "      <td>Naive Bayes</td>\n",
       "      <td>0.52</td>\n",
       "      <td>0.29</td>\n",
       "      <td>0.48</td>\n",
       "      <td>0.31</td>\n",
       "      <td>Classification</td>\n",
       "    </tr>\n",
       "    <tr>\n",
       "      <th>4</th>\n",
       "      <td>Random Forest</td>\n",
       "      <td>0.60</td>\n",
       "      <td>0.24</td>\n",
       "      <td>0.99</td>\n",
       "      <td>0.01</td>\n",
       "      <td>Classification</td>\n",
       "    </tr>\n",
       "    <tr>\n",
       "      <th>5</th>\n",
       "      <td>SVM</td>\n",
       "      <td>0.46</td>\n",
       "      <td>0.32</td>\n",
       "      <td>0.63</td>\n",
       "      <td>0.23</td>\n",
       "      <td>Classification</td>\n",
       "    </tr>\n",
       "  </tbody>\n",
       "</table>\n",
       "</div>"
      ],
      "text/plain": [
       "                 Model  Testing_Accuracy  Testing_Error  Training_Accuracy  \\\n",
       "2  Logistic Regression              0.53           0.29               0.63   \n",
       "3          Naive Bayes              0.52           0.29               0.48   \n",
       "4        Random Forest              0.60           0.24               0.99   \n",
       "5                  SVM              0.46           0.32               0.63   \n",
       "\n",
       "   Training_Error            Type  \n",
       "2            0.23  Classification  \n",
       "3            0.31  Classification  \n",
       "4            0.01  Classification  \n",
       "5            0.23  Classification  "
      ]
     },
     "execution_count": 65,
     "metadata": {},
     "output_type": "execute_result"
    }
   ],
   "source": [
    "evaluataion.query('Type==\"Classification\"')"
   ]
  },
  {
   "cell_type": "markdown",
   "metadata": {
    "papermill": {
     "duration": 0.071625,
     "end_time": "2020-09-21T08:26:38.402537",
     "exception": false,
     "start_time": "2020-09-21T08:26:38.330912",
     "status": "completed"
    },
    "tags": []
   },
   "source": [
    "## 7. Predictions and Recommendation"
   ]
  },
  {
   "cell_type": "code",
   "execution_count": 66,
   "metadata": {
    "execution": {
     "iopub.execute_input": "2020-09-21T08:26:38.548240Z",
     "iopub.status.busy": "2020-09-21T08:26:38.547678Z",
     "iopub.status.idle": "2020-09-21T08:26:39.028319Z",
     "shell.execute_reply": "2020-09-21T08:26:39.028960Z"
    },
    "papermill": {
     "duration": 0.555199,
     "end_time": "2020-09-21T08:26:39.029146",
     "exception": false,
     "start_time": "2020-09-21T08:26:38.473947",
     "status": "completed"
    },
    "tags": []
   },
   "outputs": [],
   "source": [
    "# make the recommendations\n",
    "y_test = pd.DataFrame(nb.predict(df_test.drop(['placeID', 'userID'], axis=1)), columns=['predicted_rating'])\n",
    "df_recommend = pd.concat([df_test[['placeID', 'userID']], y_test], axis=1) # create exhaustive list\n",
    "\n",
    "# get the top n recommendations and save it in a file\n",
    "n = 3\n",
    "df_recommend = df_recommend.sort_values(['userID', 'predicted_rating'], ascending=False).groupby('userID').head(n)\n",
    "df_recommend.to_csv('final_recommendations.csv', index=False)"
   ]
  }
 ],
 "metadata": {
  "kernelspec": {
   "display_name": "Python 3 (ipykernel)",
   "language": "python",
   "name": "python3"
  },
  "language_info": {
   "codemirror_mode": {
    "name": "ipython",
    "version": 3
   },
   "file_extension": ".py",
   "mimetype": "text/x-python",
   "name": "python",
   "nbconvert_exporter": "python",
   "pygments_lexer": "ipython3",
   "version": "3.9.13"
  },
  "papermill": {
   "duration": 27.464829,
   "end_time": "2020-09-21T08:26:39.208758",
   "environment_variables": {},
   "exception": null,
   "input_path": "__notebook__.ipynb",
   "output_path": "__notebook__.ipynb",
   "parameters": {},
   "start_time": "2020-09-21T08:26:11.743929",
   "version": "2.1.0"
  }
 },
 "nbformat": 4,
 "nbformat_minor": 4
}
